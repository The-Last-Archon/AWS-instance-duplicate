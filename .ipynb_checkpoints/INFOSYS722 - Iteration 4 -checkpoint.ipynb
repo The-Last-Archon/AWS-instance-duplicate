{
 "cells": [
  {
   "cell_type": "code",
   "execution_count": 2,
   "id": "b48fb972",
   "metadata": {},
   "outputs": [
    {
     "name": "stderr",
     "output_type": "stream",
     "text": [
      "WARNING: An illegal reflective access operation has occurred\n",
      "WARNING: Illegal reflective access by org.apache.spark.unsafe.Platform (file:/home/ubuntu/spark-3.2.1-bin-hadoop2.7/jars/spark-unsafe_2.12-3.2.1.jar) to constructor java.nio.DirectByteBuffer(long,int)\n",
      "WARNING: Please consider reporting this to the maintainers of org.apache.spark.unsafe.Platform\n",
      "WARNING: Use --illegal-access=warn to enable warnings of further illegal reflective access operations\n",
      "WARNING: All illegal access operations will be denied in a future release\n",
      "Using Spark's default log4j profile: org/apache/spark/log4j-defaults.properties\n",
      "Setting default log level to \"WARN\".\n",
      "To adjust logging level use sc.setLogLevel(newLevel). For SparkR, use setLogLevel(newLevel).\n",
      "22/10/11 02:24:20 WARN NativeCodeLoader: Unable to load native-hadoop library for your platform... using builtin-java classes where applicable\n"
     ]
    }
   ],
   "source": [
    "import findspark\n",
    "findspark.init('/home/ubuntu/spark-3.2.1-bin-hadoop2.7')\n",
    "import pyspark\n",
    "from pyspark.sql import SparkSession\n",
    "spark = SparkSession.builder.appName('not basics').getOrCreate()\n",
    "\n",
    "avg_df = spark.read.csv(\"./AvgSalary.csv\", header=True)\n",
    "salary_df = spark.read.csv(\"./Glassdoor Gender Pay Gap.csv\", header=True, inferSchema=True)"
   ]
  },
  {
   "cell_type": "code",
   "execution_count": 18,
   "id": "74e6283e",
   "metadata": {},
   "outputs": [
    {
     "data": {
      "text/html": [
       "<style>.container { width:100% !important; }</style>"
      ],
      "text/plain": [
       "<IPython.core.display.HTML object>"
      ]
     },
     "metadata": {},
     "output_type": "display_data"
    }
   ],
   "source": [
    "from IPython.display import display, HTML\n",
    "display(HTML(\"<style>.container { width:100% !important; }</style>\"))"
   ]
  },
  {
   "cell_type": "code",
   "execution_count": 8,
   "id": "d9036cda",
   "metadata": {},
   "outputs": [
    {
     "name": "stdout",
     "output_type": "stream",
     "text": [
      "+-------+-------------------+------+------------------+------------------+---------+--------------+------------------+-----------------+------------------+------------------+\n",
      "|summary|           JobTitle|Gender|               Age|          PerfEval|Education|          Dept|         Seniority|          BasePay|             Bonus|         CompanyID|\n",
      "+-------+-------------------+------+------------------+------------------+---------+--------------+------------------+-----------------+------------------+------------------+\n",
      "|  count|               1000|  1000|              1000|              1000|      989|           999|              1000|             1000|              1000|              1000|\n",
      "|   mean|               null|  null|            41.393|             3.037|     null|          null|             2.971|        93994.653|          6506.161|           688.204|\n",
      "| stddev|               null|  null|14.294855504477594|1.4239587980902595|     null|          null|1.3950287112117459|25530.79670901769|2479.4433190236978|374.39559618997464|\n",
      "|    min|     Data Scientist|Female|                18|                 1|  College|Administration|                 1|            34208|               149|                 4|\n",
      "|    25%|               null|  null|                29|                 2|     null|          null|                 2|            76654|              4845|               385|\n",
      "|    50%|               null|  null|                41|                 3|     null|          null|                 3|            93073|              6508|               701|\n",
      "|    75%|               null|  null|                54|                 4|     null|          null|                 4|           110078|              8035|              1006|\n",
      "|    max|Warehouse Associate|  Male|                65|                 5|      PhD|         Sales|                 5|           242105|             50000|              1314|\n",
      "+-------+-------------------+------+------------------+------------------+---------+--------------+------------------+-----------------+------------------+------------------+\n",
      "\n"
     ]
    }
   ],
   "source": [
    "salary_df.summary().show()"
   ]
  },
  {
   "cell_type": "code",
   "execution_count": 15,
   "id": "91a3a973",
   "metadata": {},
   "outputs": [
    {
     "name": "stdout",
     "output_type": "stream",
     "text": [
      "+-----------------+------+---+--------+-----------+--------------+---------+-------+-----+---------+\n",
      "|         JobTitle|Gender|Age|PerfEval|  Education|          Dept|Seniority|BasePay|Bonus|CompanyID|\n",
      "+-----------------+------+---+--------+-----------+--------------+---------+-------+-----+---------+\n",
      "|          Manager|  Male| 58|       1|        PhD|    Management|        4| 179726| 4284|       95|\n",
      "|          Manager|  Male| 59|       4|        PhD|         Sales|        5| 196789| 6773|       29|\n",
      "|               IT|  Male| 65|       4|    Masters|         Sales|        5| 165229| 6506|     1286|\n",
      "|          Manager|  Male| 55|       1|High School|    Management|        5| 163208| 4095|      421|\n",
      "|          Manager|Female| 60|       4|        PhD|    Management|        3| 140614| 8354|      812|\n",
      "|Software Engineer|  Male| 59|       1|    College|         Sales|        5| 200460| 2930|      845|\n",
      "|Software Engineer|  Male| 65|       4|High School|    Management|        5| 157852| 6669|      340|\n",
      "|          Manager|  Male| 60|       4|    College|    Management|        3| 157644| 7213|      770|\n",
      "|          Manager|  Male| 62|       5|    College|Administration|        5| 157410| 7840|       43|\n",
      "|Software Engineer|  Male| 64|       2|        PhD|         Sales|        5| 157277| 4844|     1273|\n",
      "|          Manager|  Male| 48|       2|        PhD|   Engineering|        4| 197169| 5798|      630|\n",
      "|Software Engineer|  Male| 59|       4|    Masters|   Engineering|        4| 155834| 7101|       80|\n",
      "|          Manager|  Male| 47|       1|    Masters|   Engineering|        4| 155826| 4964|      148|\n",
      "|Software Engineer|  Male| 60|       4|    Masters|         Sales|        5| 155676| 6586|     1267|\n",
      "|          Manager|Female| 62|       4|    Masters|         Sales|        4| 125203| 7808|        5|\n",
      "|Software Engineer|  Male| 58|       4|    Masters|   Engineering|        5| 154039| 7304|      679|\n",
      "|          Manager|  Male| 55|       2|    College|    Management|        5| 152710| 6107|       17|\n",
      "|          Manager|  Male| 43|       1|        PhD|    Management|        4| 152625| 4702|      474|\n",
      "|          Manager|  Male| 56|       2|        PhD|Administration|        4| 152081| 4621|      248|\n",
      "|          Manager|  Male| 57|       3|        PhD|    Operations|        5| 190914| 5982|      618|\n",
      "+-----------------+------+---+--------+-----------+--------------+---------+-------+-----+---------+\n",
      "only showing top 20 rows\n",
      "\n"
     ]
    }
   ],
   "source": [
    "salary_df.show()"
   ]
  },
  {
   "cell_type": "code",
   "execution_count": 6,
   "id": "30105df2",
   "metadata": {},
   "outputs": [
    {
     "name": "stdout",
     "output_type": "stream",
     "text": [
      "+--------+------+---+--------+---------+----+---------+-------+-----+---------+\n",
      "|JobTitle|Gender|Age|PerfEval|Education|Dept|Seniority|BasePay|Bonus|CompanyID|\n",
      "+--------+------+---+--------+---------+----+---------+-------+-----+---------+\n",
      "|       0|     0|  0|       0|       11|   1|        0|      0|    0|        0|\n",
      "+--------+------+---+--------+---------+----+---------+-------+-----+---------+\n",
      "\n"
     ]
    }
   ],
   "source": [
    "from pyspark.sql import functions as F\n",
    "df_agg = salary_df.agg(*(F.count(F.when(F.isnull(c),c)).alias(c) for c in salary_df.columns))\n",
    "\n",
    "df_agg.show()"
   ]
  },
  {
   "cell_type": "code",
   "execution_count": 12,
   "id": "53f5b578",
   "metadata": {},
   "outputs": [
    {
     "name": "stdout",
     "output_type": "stream",
     "text": [
      "+-------+-----------------+------------------+\n",
      "|summary|          BasePay|             Bonus|\n",
      "+-------+-----------------+------------------+\n",
      "|  count|             1000|              1000|\n",
      "|   mean|        93994.653|          6506.161|\n",
      "| stddev|25530.79670901769|2479.4433190236978|\n",
      "|    min|            34208|               149|\n",
      "|    max|           242105|             50000|\n",
      "+-------+-----------------+------------------+\n",
      "\n"
     ]
    }
   ],
   "source": [
    "salary_df.describe(['BasePay', 'Bonus']).show()"
   ]
  },
  {
   "cell_type": "code",
   "execution_count": 15,
   "id": "f6d0eee1",
   "metadata": {},
   "outputs": [
    {
     "name": "stdout",
     "output_type": "stream",
     "text": [
      "+-------------------+------+---+--------+-----------+--------------+---------+-------+-----+---------+\n",
      "|           JobTitle|Gender|Age|PerfEval|  Education|          Dept|Seniority|BasePay|Bonus|CompanyID|\n",
      "+-------------------+------+---+--------+-----------+--------------+---------+-------+-----+---------+\n",
      "|            Manager|Female| 60|       4|        PhD|    Management|        3| 140614| 8354|      812|\n",
      "|            Manager|Female| 62|       4|    Masters|         Sales|        4| 125203| 7808|        5|\n",
      "|            Manager|Female| 45|       1|High School|   Engineering|        5| 129893| 5120|     1003|\n",
      "|  Financial Analyst|Female| 47|       5|High School|         Sales|        5| 126190| 8961|      417|\n",
      "|            Manager|Female| 62|       4|    Masters|Administration|        3| 106008| 6235|      884|\n",
      "|            Manager|Female| 57|       1|    Masters|    Operations|        3| 145095| 3889|      590|\n",
      "|            Manager|Female| 45|       2|High School|    Management|        5| 104146| 6340|      624|\n",
      "|    Sales Associate|Female| 65|       2|        PhD|         Sales|        5| 122505| 4214|      606|\n",
      "|     Data Scientist|Female| 58|       1|High School|         Sales|        5| 101005| 3384|      680|\n",
      "|     Data Scientist|Female| 51|       1|        PhD|         Sales|        5| 119141| 4969|      930|\n",
      "|  Financial Analyst|Female| 61|       1|    Masters|   Engineering|        4| 119042| 2982|      792|\n",
      "|     Data Scientist|Female| 55|       2|    Masters|         Sales|        5| 118365| 5359|      689|\n",
      "|            Manager|Female| 59|       2|High School|    Management|        2| 116215| 3603|      829|\n",
      "|            Manager|Female| 55|       1|High School|Administration|        3| 115638| 2824|     1279|\n",
      "|Warehouse Associate|Female| 58|       1|    Masters|    Management|        4| 134109| 4184|     1086|\n",
      "|   Graphic Designer|Female| 57|       2|    Masters|         Sales|        5| 133741| 4925|      833|\n",
      "|     Data Scientist|Female| 53|       5|    Masters|   Engineering|        5| 103495| 8552|      489|\n",
      "|                 IT|Female| 44|       2|        PhD|    Operations|        5| 102267| 5679|     1139|\n",
      "|    Sales Associate|Female| 61|       3|        PhD|    Management|        4| 131608| 6537|      815|\n",
      "|                 IT|Female| 44|       1|High School|         Sales|        5| 101411| 3084|     1247|\n",
      "+-------------------+------+---+--------+-----------+--------------+---------+-------+-----+---------+\n",
      "only showing top 20 rows\n",
      "\n"
     ]
    }
   ],
   "source": [
    "salary_df.filter(\"Gender=='Female'\").show()"
   ]
  },
  {
   "cell_type": "code",
   "execution_count": 3,
   "id": "4e661d68",
   "metadata": {},
   "outputs": [],
   "source": [
    "salary_df = salary_df.na.drop()\n"
   ]
  },
  {
   "cell_type": "code",
   "execution_count": 5,
   "id": "f60173cb",
   "metadata": {},
   "outputs": [
    {
     "name": "stdout",
     "output_type": "stream",
     "text": [
      "+-----------------+------+---+--------+-----------+--------------+---------+-------+-----+---------+-----------+\n",
      "|         JobTitle|Gender|Age|PerfEval|  Education|          Dept|Seniority|BasePay|Bonus|CompanyID|TotalSalary|\n",
      "+-----------------+------+---+--------+-----------+--------------+---------+-------+-----+---------+-----------+\n",
      "|          Manager|  Male| 58|       1|        PhD|    Management|        4| 179726| 4284|       95|     184010|\n",
      "|          Manager|  Male| 59|       4|        PhD|         Sales|        5| 196789| 6773|       29|     203562|\n",
      "|               IT|  Male| 65|       4|    Masters|         Sales|        5| 165229| 6506|     1286|     171735|\n",
      "|          Manager|  Male| 55|       1|High School|    Management|        5| 163208| 4095|      421|     167303|\n",
      "|          Manager|Female| 60|       4|        PhD|    Management|        3| 140614| 8354|      812|     148968|\n",
      "|Software Engineer|  Male| 59|       1|    College|         Sales|        5| 200460| 2930|      845|     203390|\n",
      "|Software Engineer|  Male| 65|       4|High School|    Management|        5| 157852| 6669|      340|     164521|\n",
      "|          Manager|  Male| 60|       4|    College|    Management|        3| 157644| 7213|      770|     164857|\n",
      "|          Manager|  Male| 62|       5|    College|Administration|        5| 157410| 7840|       43|     165250|\n",
      "|Software Engineer|  Male| 64|       2|        PhD|         Sales|        5| 157277| 4844|     1273|     162121|\n",
      "|          Manager|  Male| 48|       2|        PhD|   Engineering|        4| 197169| 5798|      630|     202967|\n",
      "|Software Engineer|  Male| 59|       4|    Masters|   Engineering|        4| 155834| 7101|       80|     162935|\n",
      "|          Manager|  Male| 47|       1|    Masters|   Engineering|        4| 155826| 4964|      148|     160790|\n",
      "|Software Engineer|  Male| 60|       4|    Masters|         Sales|        5| 155676| 6586|     1267|     162262|\n",
      "|          Manager|Female| 62|       4|    Masters|         Sales|        4| 125203| 7808|        5|     133011|\n",
      "|Software Engineer|  Male| 58|       4|    Masters|   Engineering|        5| 154039| 7304|      679|     161343|\n",
      "|          Manager|  Male| 55|       2|    College|    Management|        5| 152710| 6107|       17|     158817|\n",
      "|          Manager|  Male| 43|       1|        PhD|    Management|        4| 152625| 4702|      474|     157327|\n",
      "|          Manager|  Male| 56|       2|        PhD|Administration|        4| 152081| 4621|      248|     156702|\n",
      "|          Manager|  Male| 57|       3|        PhD|    Operations|        5| 190914| 5982|      618|     196896|\n",
      "+-----------------+------+---+--------+-----------+--------------+---------+-------+-----+---------+-----------+\n",
      "only showing top 20 rows\n",
      "\n"
     ]
    }
   ],
   "source": [
    "salary_df = salary_df.withColumn(\"TotalSalary\", salary_df.BasePay + salary_df.Bonus)\n",
    "salary_df.show()"
   ]
  },
  {
   "cell_type": "code",
   "execution_count": 6,
   "id": "1b7acd33",
   "metadata": {},
   "outputs": [],
   "source": [
    "df = salary_df.join(avg_df, salary_df.JobTitle == avg_df.JobTitle, \"inner\")"
   ]
  },
  {
   "cell_type": "code",
   "execution_count": 8,
   "id": "6949673d",
   "metadata": {},
   "outputs": [
    {
     "name": "stdout",
     "output_type": "stream",
     "text": [
      "+-----------------+------+---+--------+-----------+--------------+---------+-------+-----+---------+-----------+-----------------+-----------+--------+\n",
      "|         JobTitle|Gender|Age|PerfEval|  Education|          Dept|Seniority|BasePay|Bonus|CompanyID|TotalSalary|         JobTitle|  AvgSalary|BelowAvg|\n",
      "+-----------------+------+---+--------+-----------+--------------+---------+-------+-----+---------+-----------+-----------------+-----------+--------+\n",
      "|          Manager|  Male| 58|       1|        PhD|    Management|        4| 179726| 4284|       95|     184010|          Manager|132429.1528|   false|\n",
      "|          Manager|  Male| 59|       4|        PhD|         Sales|        5| 196789| 6773|       29|     203562|          Manager|132429.1528|   false|\n",
      "|               IT|  Male| 65|       4|    Masters|         Sales|        5| 165229| 6506|     1286|     171735|               IT|97152.63043|   false|\n",
      "|          Manager|  Male| 55|       1|High School|    Management|        5| 163208| 4095|      421|     167303|          Manager|132429.1528|   false|\n",
      "|          Manager|Female| 60|       4|        PhD|    Management|        3| 140614| 8354|      812|     148968|          Manager|132429.1528|   false|\n",
      "|Software Engineer|  Male| 59|       1|    College|         Sales|        5| 200460| 2930|      845|     203390|Software Engineer|114419.9505|   false|\n",
      "|Software Engineer|  Male| 65|       4|High School|    Management|        5| 157852| 6669|      340|     164521|Software Engineer|114419.9505|   false|\n",
      "|          Manager|  Male| 60|       4|    College|    Management|        3| 157644| 7213|      770|     164857|          Manager|132429.1528|   false|\n",
      "|          Manager|  Male| 62|       5|    College|Administration|        5| 157410| 7840|       43|     165250|          Manager|132429.1528|   false|\n",
      "|Software Engineer|  Male| 64|       2|        PhD|         Sales|        5| 157277| 4844|     1273|     162121|Software Engineer|114419.9505|   false|\n",
      "|          Manager|  Male| 48|       2|        PhD|   Engineering|        4| 197169| 5798|      630|     202967|          Manager|132429.1528|   false|\n",
      "|Software Engineer|  Male| 59|       4|    Masters|   Engineering|        4| 155834| 7101|       80|     162935|Software Engineer|114419.9505|   false|\n",
      "|          Manager|  Male| 47|       1|    Masters|   Engineering|        4| 155826| 4964|      148|     160790|          Manager|132429.1528|   false|\n",
      "|Software Engineer|  Male| 60|       4|    Masters|         Sales|        5| 155676| 6586|     1267|     162262|Software Engineer|114419.9505|   false|\n",
      "|          Manager|Female| 62|       4|    Masters|         Sales|        4| 125203| 7808|        5|     133011|          Manager|132429.1528|   false|\n",
      "|Software Engineer|  Male| 58|       4|    Masters|   Engineering|        5| 154039| 7304|      679|     161343|Software Engineer|114419.9505|   false|\n",
      "|          Manager|  Male| 55|       2|    College|    Management|        5| 152710| 6107|       17|     158817|          Manager|132429.1528|   false|\n",
      "|          Manager|  Male| 43|       1|        PhD|    Management|        4| 152625| 4702|      474|     157327|          Manager|132429.1528|   false|\n",
      "|          Manager|  Male| 56|       2|        PhD|Administration|        4| 152081| 4621|      248|     156702|          Manager|132429.1528|   false|\n",
      "|          Manager|  Male| 57|       3|        PhD|    Operations|        5| 190914| 5982|      618|     196896|          Manager|132429.1528|   false|\n",
      "+-----------------+------+---+--------+-----------+--------------+---------+-------+-----+---------+-----------+-----------------+-----------+--------+\n",
      "only showing top 20 rows\n",
      "\n"
     ]
    }
   ],
   "source": [
    "df = df.withColumn(\"BelowAvg\", df.TotalSalary < df.AvgSalary)\n",
    "df.show()"
   ]
  },
  {
   "cell_type": "code",
   "execution_count": 9,
   "id": "d5a8d6b0",
   "metadata": {},
   "outputs": [
    {
     "name": "stdout",
     "output_type": "stream",
     "text": [
      "root\n",
      " |-- JobTitle: string (nullable = true)\n",
      " |-- Gender: string (nullable = true)\n",
      " |-- Age: integer (nullable = true)\n",
      " |-- PerfEval: integer (nullable = true)\n",
      " |-- Education: string (nullable = true)\n",
      " |-- Dept: string (nullable = true)\n",
      " |-- Seniority: integer (nullable = true)\n",
      " |-- BasePay: integer (nullable = true)\n",
      " |-- Bonus: integer (nullable = true)\n",
      " |-- CompanyID: integer (nullable = true)\n",
      " |-- TotalSalary: integer (nullable = true)\n",
      " |-- JobTitle: string (nullable = true)\n",
      " |-- AvgSalary: string (nullable = true)\n",
      " |-- BelowAvg: boolean (nullable = true)\n",
      "\n"
     ]
    }
   ],
   "source": [
    "df.printSchema()"
   ]
  },
  {
   "cell_type": "code",
   "execution_count": 19,
   "id": "1206a355",
   "metadata": {},
   "outputs": [],
   "source": [
    "df_cols = df.columns\n",
    "# get index of the duplicate columns\n",
    "duplicate_col_index = list(set([df_cols.index(c) for c in df_cols if df_cols.count(c) == 2]))\n",
    "\n",
    "# rename by adding suffix '_duplicated'\n",
    "for i in duplicate_col_index:\n",
    "    df_cols[i] = df_cols[i] + '_duplicated'\n",
    "\n",
    "# rename the column in DF\n",
    "df = df.toDF(*df_cols)\n",
    "\n",
    "# remove flagged columns\n",
    "cols_to_remove = [c for c in df_cols if '_duplicated' in c]\n",
    "df = df.drop(*cols_to_remove)"
   ]
  },
  {
   "cell_type": "code",
   "execution_count": 27,
   "id": "6ce81d82",
   "metadata": {
    "scrolled": true
   },
   "outputs": [
    {
     "ename": "IllegalArgumentException",
     "evalue": "requirement failed: The input column BelowAvg must be either string type or numeric type, but got BooleanType.",
     "output_type": "error",
     "traceback": [
      "\u001b[0;31m---------------------------------------------------------------------------\u001b[0m",
      "\u001b[0;31mIllegalArgumentException\u001b[0m                  Traceback (most recent call last)",
      "Input \u001b[0;32mIn [27]\u001b[0m, in \u001b[0;36m<cell line: 9>\u001b[0;34m()\u001b[0m\n\u001b[1;32m      5\u001b[0m below_indexer \u001b[38;5;241m=\u001b[39m StringIndexer(inputCol\u001b[38;5;241m=\u001b[39m\u001b[38;5;124m\"\u001b[39m\u001b[38;5;124mBelowAvg\u001b[39m\u001b[38;5;124m\"\u001b[39m, outputCol\u001b[38;5;241m=\u001b[39m\u001b[38;5;124m\"\u001b[39m\u001b[38;5;124mBelowIndex\u001b[39m\u001b[38;5;124m\"\u001b[39m)\n\u001b[1;32m      6\u001b[0m \u001b[38;5;66;03m#df = job_indexer.fit(df).transform(df)\u001b[39;00m\n\u001b[1;32m      7\u001b[0m \u001b[38;5;66;03m#df = edu_indexer.fit(df).transform(df)\u001b[39;00m\n\u001b[1;32m      8\u001b[0m \u001b[38;5;66;03m#df = dept_indexer.fit(df).transform(df)\u001b[39;00m\n\u001b[0;32m----> 9\u001b[0m df \u001b[38;5;241m=\u001b[39m \u001b[43mbelow_indexer\u001b[49m\u001b[38;5;241;43m.\u001b[39;49m\u001b[43mfit\u001b[49m\u001b[43m(\u001b[49m\u001b[43mdf\u001b[49m\u001b[43m)\u001b[49m\u001b[38;5;241m.\u001b[39mtransform(df)\n",
      "File \u001b[0;32m~/spark-3.2.1-bin-hadoop2.7/python/pyspark/ml/base.py:161\u001b[0m, in \u001b[0;36mEstimator.fit\u001b[0;34m(self, dataset, params)\u001b[0m\n\u001b[1;32m    159\u001b[0m         \u001b[38;5;28;01mreturn\u001b[39;00m \u001b[38;5;28mself\u001b[39m\u001b[38;5;241m.\u001b[39mcopy(params)\u001b[38;5;241m.\u001b[39m_fit(dataset)\n\u001b[1;32m    160\u001b[0m     \u001b[38;5;28;01melse\u001b[39;00m:\n\u001b[0;32m--> 161\u001b[0m         \u001b[38;5;28;01mreturn\u001b[39;00m \u001b[38;5;28;43mself\u001b[39;49m\u001b[38;5;241;43m.\u001b[39;49m\u001b[43m_fit\u001b[49m\u001b[43m(\u001b[49m\u001b[43mdataset\u001b[49m\u001b[43m)\u001b[49m\n\u001b[1;32m    162\u001b[0m \u001b[38;5;28;01melse\u001b[39;00m:\n\u001b[1;32m    163\u001b[0m     \u001b[38;5;28;01mraise\u001b[39;00m \u001b[38;5;167;01mTypeError\u001b[39;00m(\u001b[38;5;124m\"\u001b[39m\u001b[38;5;124mParams must be either a param map or a list/tuple of param maps, \u001b[39m\u001b[38;5;124m\"\u001b[39m\n\u001b[1;32m    164\u001b[0m                     \u001b[38;5;124m\"\u001b[39m\u001b[38;5;124mbut got \u001b[39m\u001b[38;5;132;01m%s\u001b[39;00m\u001b[38;5;124m.\u001b[39m\u001b[38;5;124m\"\u001b[39m \u001b[38;5;241m%\u001b[39m \u001b[38;5;28mtype\u001b[39m(params))\n",
      "File \u001b[0;32m~/spark-3.2.1-bin-hadoop2.7/python/pyspark/ml/wrapper.py:335\u001b[0m, in \u001b[0;36mJavaEstimator._fit\u001b[0;34m(self, dataset)\u001b[0m\n\u001b[1;32m    334\u001b[0m \u001b[38;5;28;01mdef\u001b[39;00m \u001b[38;5;21m_fit\u001b[39m(\u001b[38;5;28mself\u001b[39m, dataset):\n\u001b[0;32m--> 335\u001b[0m     java_model \u001b[38;5;241m=\u001b[39m \u001b[38;5;28;43mself\u001b[39;49m\u001b[38;5;241;43m.\u001b[39;49m\u001b[43m_fit_java\u001b[49m\u001b[43m(\u001b[49m\u001b[43mdataset\u001b[49m\u001b[43m)\u001b[49m\n\u001b[1;32m    336\u001b[0m     model \u001b[38;5;241m=\u001b[39m \u001b[38;5;28mself\u001b[39m\u001b[38;5;241m.\u001b[39m_create_model(java_model)\n\u001b[1;32m    337\u001b[0m     \u001b[38;5;28;01mreturn\u001b[39;00m \u001b[38;5;28mself\u001b[39m\u001b[38;5;241m.\u001b[39m_copyValues(model)\n",
      "File \u001b[0;32m~/spark-3.2.1-bin-hadoop2.7/python/pyspark/ml/wrapper.py:332\u001b[0m, in \u001b[0;36mJavaEstimator._fit_java\u001b[0;34m(self, dataset)\u001b[0m\n\u001b[1;32m    318\u001b[0m \u001b[38;5;124;03m\"\"\"\u001b[39;00m\n\u001b[1;32m    319\u001b[0m \u001b[38;5;124;03mFits a Java model to the input dataset.\u001b[39;00m\n\u001b[1;32m    320\u001b[0m \n\u001b[0;32m   (...)\u001b[0m\n\u001b[1;32m    329\u001b[0m \u001b[38;5;124;03m    fitted Java model\u001b[39;00m\n\u001b[1;32m    330\u001b[0m \u001b[38;5;124;03m\"\"\"\u001b[39;00m\n\u001b[1;32m    331\u001b[0m \u001b[38;5;28mself\u001b[39m\u001b[38;5;241m.\u001b[39m_transfer_params_to_java()\n\u001b[0;32m--> 332\u001b[0m \u001b[38;5;28;01mreturn\u001b[39;00m \u001b[38;5;28;43mself\u001b[39;49m\u001b[38;5;241;43m.\u001b[39;49m\u001b[43m_java_obj\u001b[49m\u001b[38;5;241;43m.\u001b[39;49m\u001b[43mfit\u001b[49m\u001b[43m(\u001b[49m\u001b[43mdataset\u001b[49m\u001b[38;5;241;43m.\u001b[39;49m\u001b[43m_jdf\u001b[49m\u001b[43m)\u001b[49m\n",
      "File \u001b[0;32m~/spark-3.2.1-bin-hadoop2.7/python/lib/py4j-0.10.9.3-src.zip/py4j/java_gateway.py:1321\u001b[0m, in \u001b[0;36mJavaMember.__call__\u001b[0;34m(self, *args)\u001b[0m\n\u001b[1;32m   1315\u001b[0m command \u001b[38;5;241m=\u001b[39m proto\u001b[38;5;241m.\u001b[39mCALL_COMMAND_NAME \u001b[38;5;241m+\u001b[39m\\\n\u001b[1;32m   1316\u001b[0m     \u001b[38;5;28mself\u001b[39m\u001b[38;5;241m.\u001b[39mcommand_header \u001b[38;5;241m+\u001b[39m\\\n\u001b[1;32m   1317\u001b[0m     args_command \u001b[38;5;241m+\u001b[39m\\\n\u001b[1;32m   1318\u001b[0m     proto\u001b[38;5;241m.\u001b[39mEND_COMMAND_PART\n\u001b[1;32m   1320\u001b[0m answer \u001b[38;5;241m=\u001b[39m \u001b[38;5;28mself\u001b[39m\u001b[38;5;241m.\u001b[39mgateway_client\u001b[38;5;241m.\u001b[39msend_command(command)\n\u001b[0;32m-> 1321\u001b[0m return_value \u001b[38;5;241m=\u001b[39m \u001b[43mget_return_value\u001b[49m\u001b[43m(\u001b[49m\n\u001b[1;32m   1322\u001b[0m \u001b[43m    \u001b[49m\u001b[43manswer\u001b[49m\u001b[43m,\u001b[49m\u001b[43m \u001b[49m\u001b[38;5;28;43mself\u001b[39;49m\u001b[38;5;241;43m.\u001b[39;49m\u001b[43mgateway_client\u001b[49m\u001b[43m,\u001b[49m\u001b[43m \u001b[49m\u001b[38;5;28;43mself\u001b[39;49m\u001b[38;5;241;43m.\u001b[39;49m\u001b[43mtarget_id\u001b[49m\u001b[43m,\u001b[49m\u001b[43m \u001b[49m\u001b[38;5;28;43mself\u001b[39;49m\u001b[38;5;241;43m.\u001b[39;49m\u001b[43mname\u001b[49m\u001b[43m)\u001b[49m\n\u001b[1;32m   1324\u001b[0m \u001b[38;5;28;01mfor\u001b[39;00m temp_arg \u001b[38;5;129;01min\u001b[39;00m temp_args:\n\u001b[1;32m   1325\u001b[0m     temp_arg\u001b[38;5;241m.\u001b[39m_detach()\n",
      "File \u001b[0;32m~/spark-3.2.1-bin-hadoop2.7/python/pyspark/sql/utils.py:117\u001b[0m, in \u001b[0;36mcapture_sql_exception.<locals>.deco\u001b[0;34m(*a, **kw)\u001b[0m\n\u001b[1;32m    113\u001b[0m converted \u001b[38;5;241m=\u001b[39m convert_exception(e\u001b[38;5;241m.\u001b[39mjava_exception)\n\u001b[1;32m    114\u001b[0m \u001b[38;5;28;01mif\u001b[39;00m \u001b[38;5;129;01mnot\u001b[39;00m \u001b[38;5;28misinstance\u001b[39m(converted, UnknownException):\n\u001b[1;32m    115\u001b[0m     \u001b[38;5;66;03m# Hide where the exception came from that shows a non-Pythonic\u001b[39;00m\n\u001b[1;32m    116\u001b[0m     \u001b[38;5;66;03m# JVM exception message.\u001b[39;00m\n\u001b[0;32m--> 117\u001b[0m     \u001b[38;5;28;01mraise\u001b[39;00m converted \u001b[38;5;28;01mfrom\u001b[39;00m \u001b[38;5;28mNone\u001b[39m\n\u001b[1;32m    118\u001b[0m \u001b[38;5;28;01melse\u001b[39;00m:\n\u001b[1;32m    119\u001b[0m     \u001b[38;5;28;01mraise\u001b[39;00m\n",
      "\u001b[0;31mIllegalArgumentException\u001b[0m: requirement failed: The input column BelowAvg must be either string type or numeric type, but got BooleanType."
     ]
    }
   ],
   "source": [
    "from pyspark.ml.feature import StringIndexer\n",
    "job_indexer = StringIndexer(inputCol=\"JobTitle\", outputCol=\"JobIndex\")\n",
    "edu_indexer = StringIndexer(inputCol=\"Education\", outputCol=\"EducationIndex\")\n",
    "dept_indexer = StringIndexer(inputCol=\"Dept\", outputCol=\"DeptIndex\")\n",
    "#below_indexer = StringIndexer(inputCol=\"BelowAvg\", outputCol=\"BelowIndex\")\n",
    "df = job_indexer.fit(df).transform(df)\n",
    "df = edu_indexer.fit(df).transform(df)\n",
    "df = dept_indexer.fit(df).transform(df)\n",
    "#df = below_indexer.fit(df).transform(df)"
   ]
  },
  {
   "cell_type": "code",
   "execution_count": 31,
   "id": "0fdda818",
   "metadata": {},
   "outputs": [],
   "source": [
    "ohe = OneHotEncoder(inputCols=[\"JobIndex\", \"EducationIndex\", \"DeptIndex\"], \n",
    "                    outputCols=[\"JobEncoded\", \"EducationEncoded\", \"DeptEncoded\"])\n",
    "df = ohe.fit(df).transform(df)"
   ]
  },
  {
   "cell_type": "code",
   "execution_count": 34,
   "id": "fc44afa2",
   "metadata": {},
   "outputs": [
    {
     "name": "stdout",
     "output_type": "stream",
     "text": [
      "+---+--------+---------+--------+-------------+----------------+-------------+\n",
      "|Age|PerfEval|Seniority|BelowAvg|   JobEncoded|EducationEncoded|  DeptEncoded|\n",
      "+---+--------+---------+--------+-------------+----------------+-------------+\n",
      "| 58|       1|        4|   false|(9,[8],[1.0])|       (3,[],[])|(4,[2],[1.0])|\n",
      "| 59|       4|        5|   false|(9,[8],[1.0])|       (3,[],[])|(4,[1],[1.0])|\n",
      "| 65|       4|        5|   false|(9,[5],[1.0])|   (3,[1],[1.0])|(4,[1],[1.0])|\n",
      "| 55|       1|        5|   false|(9,[8],[1.0])|   (3,[0],[1.0])|(4,[2],[1.0])|\n",
      "| 60|       4|        3|   false|(9,[8],[1.0])|       (3,[],[])|(4,[2],[1.0])|\n",
      "| 59|       1|        5|   false|(9,[1],[1.0])|   (3,[2],[1.0])|(4,[1],[1.0])|\n",
      "| 65|       4|        5|   false|(9,[1],[1.0])|   (3,[0],[1.0])|(4,[2],[1.0])|\n",
      "| 60|       4|        3|   false|(9,[8],[1.0])|   (3,[2],[1.0])|(4,[2],[1.0])|\n",
      "| 62|       5|        5|   false|(9,[8],[1.0])|   (3,[2],[1.0])|    (4,[],[])|\n",
      "| 64|       2|        5|   false|(9,[1],[1.0])|       (3,[],[])|(4,[1],[1.0])|\n",
      "| 48|       2|        4|   false|(9,[8],[1.0])|       (3,[],[])|(4,[3],[1.0])|\n",
      "| 59|       4|        4|   false|(9,[1],[1.0])|   (3,[1],[1.0])|(4,[3],[1.0])|\n",
      "| 47|       1|        4|   false|(9,[8],[1.0])|   (3,[1],[1.0])|(4,[3],[1.0])|\n",
      "| 60|       4|        5|   false|(9,[1],[1.0])|   (3,[1],[1.0])|(4,[1],[1.0])|\n",
      "| 62|       4|        4|   false|(9,[8],[1.0])|   (3,[1],[1.0])|(4,[1],[1.0])|\n",
      "| 58|       4|        5|   false|(9,[1],[1.0])|   (3,[1],[1.0])|(4,[3],[1.0])|\n",
      "| 55|       2|        5|   false|(9,[8],[1.0])|   (3,[2],[1.0])|(4,[2],[1.0])|\n",
      "| 43|       1|        4|   false|(9,[8],[1.0])|       (3,[],[])|(4,[2],[1.0])|\n",
      "| 56|       2|        4|   false|(9,[8],[1.0])|       (3,[],[])|    (4,[],[])|\n",
      "| 57|       3|        5|   false|(9,[8],[1.0])|       (3,[],[])|(4,[0],[1.0])|\n",
      "+---+--------+---------+--------+-------------+----------------+-------------+\n",
      "only showing top 20 rows\n",
      "\n"
     ]
    }
   ],
   "source": [
    "df = df.drop(\"Gender\", \"Education\", \"Dept\", \"BasePay\", \"Bonus\", \"CompanyID\", \"TotalSalary\", \"JobTitle\", \"AvgSalary\", \"EducationIndex\", \"JobIndex\", \"DeptIndex\")\n",
    "df.show()"
   ]
  },
  {
   "cell_type": "code",
   "execution_count": null,
   "id": "1b9702e9",
   "metadata": {},
   "outputs": [],
   "source": [
    "from pyspark.ml.linalg import Vectors \n",
    "from pyspark.ml.feature import VectorAssembler\n",
    "assembler = VectorAssembler(inputCols=)"
   ]
  }
 ],
 "metadata": {
  "kernelspec": {
   "display_name": "Python 3 (ipykernel)",
   "language": "python",
   "name": "python3"
  },
  "language_info": {
   "codemirror_mode": {
    "name": "ipython",
    "version": 3
   },
   "file_extension": ".py",
   "mimetype": "text/x-python",
   "name": "python",
   "nbconvert_exporter": "python",
   "pygments_lexer": "ipython3",
   "version": "3.10.4"
  }
 },
 "nbformat": 4,
 "nbformat_minor": 5
}
