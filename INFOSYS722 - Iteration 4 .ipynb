{
 "cells": [
  {
   "cell_type": "code",
   "execution_count": 2,
   "id": "b48fb972",
   "metadata": {},
   "outputs": [
    {
     "name": "stderr",
     "output_type": "stream",
     "text": [
      "WARNING: An illegal reflective access operation has occurred\n",
      "WARNING: Illegal reflective access by org.apache.spark.unsafe.Platform (file:/home/ubuntu/spark-3.2.1-bin-hadoop2.7/jars/spark-unsafe_2.12-3.2.1.jar) to constructor java.nio.DirectByteBuffer(long,int)\n",
      "WARNING: Please consider reporting this to the maintainers of org.apache.spark.unsafe.Platform\n",
      "WARNING: Use --illegal-access=warn to enable warnings of further illegal reflective access operations\n",
      "WARNING: All illegal access operations will be denied in a future release\n",
      "Using Spark's default log4j profile: org/apache/spark/log4j-defaults.properties\n",
      "Setting default log level to \"WARN\".\n",
      "To adjust logging level use sc.setLogLevel(newLevel). For SparkR, use setLogLevel(newLevel).\n",
      "22/10/12 02:51:06 WARN NativeCodeLoader: Unable to load native-hadoop library for your platform... using builtin-java classes where applicable\n"
     ]
    }
   ],
   "source": [
    "import findspark\n",
    "findspark.init('/home/ubuntu/spark-3.2.1-bin-hadoop2.7')\n",
    "import pyspark\n",
    "from pyspark.sql import SparkSession\n",
    "spark = SparkSession.builder.appName('not basics').getOrCreate()\n",
    "\n",
    "avg_df = spark.read.csv(\"./AvgSalary.csv\", header=True)\n",
    "salary_df = spark.read.csv(\"./Glassdoor Gender Pay Gap.csv\", header=True, inferSchema=True)"
   ]
  },
  {
   "cell_type": "code",
   "execution_count": 3,
   "id": "74e6283e",
   "metadata": {},
   "outputs": [
    {
     "data": {
      "text/html": [
       "<style>.container { width:100% !important; }</style>"
      ],
      "text/plain": [
       "<IPython.core.display.HTML object>"
      ]
     },
     "metadata": {},
     "output_type": "display_data"
    }
   ],
   "source": [
    "from IPython.display import display, HTML\n",
    "display(HTML(\"<style>.container { width:100% !important; }</style>\"))"
   ]
  },
  {
   "cell_type": "code",
   "execution_count": 4,
   "id": "d9036cda",
   "metadata": {},
   "outputs": [
    {
     "name": "stderr",
     "output_type": "stream",
     "text": [
      "\r",
      "[Stage 3:>                                                          (0 + 1) / 1]\r"
     ]
    },
    {
     "name": "stdout",
     "output_type": "stream",
     "text": [
      "+-------+-------------------+------+------------------+------------------+---------+--------------+------------------+-----------------+------------------+------------------+\n",
      "|summary|           JobTitle|Gender|               Age|          PerfEval|Education|          Dept|         Seniority|          BasePay|             Bonus|         CompanyID|\n",
      "+-------+-------------------+------+------------------+------------------+---------+--------------+------------------+-----------------+------------------+------------------+\n",
      "|  count|               1000|  1000|              1000|              1000|      989|           999|              1000|             1000|              1000|              1000|\n",
      "|   mean|               null|  null|            41.393|             3.037|     null|          null|             2.971|        93994.653|          6506.161|           688.204|\n",
      "| stddev|               null|  null|14.294855504477594|1.4239587980902595|     null|          null|1.3950287112117459|25530.79670901769|2479.4433190236978|374.39559618997464|\n",
      "|    min|     Data Scientist|Female|                18|                 1|  College|Administration|                 1|            34208|               149|                 4|\n",
      "|    25%|               null|  null|                29|                 2|     null|          null|                 2|            76654|              4845|               385|\n",
      "|    50%|               null|  null|                41|                 3|     null|          null|                 3|            93073|              6508|               701|\n",
      "|    75%|               null|  null|                54|                 4|     null|          null|                 4|           110078|              8035|              1006|\n",
      "|    max|Warehouse Associate|  Male|                65|                 5|      PhD|         Sales|                 5|           242105|             50000|              1314|\n",
      "+-------+-------------------+------+------------------+------------------+---------+--------------+------------------+-----------------+------------------+------------------+\n",
      "\n"
     ]
    },
    {
     "name": "stderr",
     "output_type": "stream",
     "text": [
      "\r",
      "                                                                                \r"
     ]
    }
   ],
   "source": [
    "salary_df.summary().show()"
   ]
  },
  {
   "cell_type": "code",
   "execution_count": 1,
   "id": "91a3a973",
   "metadata": {},
   "outputs": [
    {
     "ename": "NameError",
     "evalue": "name 'salary_df' is not defined",
     "output_type": "error",
     "traceback": [
      "\u001b[0;31m---------------------------------------------------------------------------\u001b[0m",
      "\u001b[0;31mNameError\u001b[0m                                 Traceback (most recent call last)",
      "Input \u001b[0;32mIn [1]\u001b[0m, in \u001b[0;36m<cell line: 1>\u001b[0;34m()\u001b[0m\n\u001b[0;32m----> 1\u001b[0m \u001b[43msalary_df\u001b[49m\u001b[38;5;241m.\u001b[39mshow()\n",
      "\u001b[0;31mNameError\u001b[0m: name 'salary_df' is not defined"
     ]
    }
   ],
   "source": [
    "salary_df.show()"
   ]
  },
  {
   "cell_type": "code",
   "execution_count": 6,
   "id": "30105df2",
   "metadata": {},
   "outputs": [
    {
     "name": "stdout",
     "output_type": "stream",
     "text": [
      "+--------+------+---+--------+---------+----+---------+-------+-----+---------+\n",
      "|JobTitle|Gender|Age|PerfEval|Education|Dept|Seniority|BasePay|Bonus|CompanyID|\n",
      "+--------+------+---+--------+---------+----+---------+-------+-----+---------+\n",
      "|       0|     0|  0|       0|       11|   1|        0|      0|    0|        0|\n",
      "+--------+------+---+--------+---------+----+---------+-------+-----+---------+\n",
      "\n"
     ]
    }
   ],
   "source": [
    "from pyspark.sql import functions as F\n",
    "df_agg = salary_df.agg(*(F.count(F.when(F.isnull(c),c)).alias(c) for c in salary_df.columns))\n",
    "\n",
    "df_agg.show()"
   ]
  },
  {
   "cell_type": "code",
   "execution_count": 12,
   "id": "53f5b578",
   "metadata": {},
   "outputs": [
    {
     "name": "stdout",
     "output_type": "stream",
     "text": [
      "+-------+-----------------+------------------+\n",
      "|summary|          BasePay|             Bonus|\n",
      "+-------+-----------------+------------------+\n",
      "|  count|             1000|              1000|\n",
      "|   mean|        93994.653|          6506.161|\n",
      "| stddev|25530.79670901769|2479.4433190236978|\n",
      "|    min|            34208|               149|\n",
      "|    max|           242105|             50000|\n",
      "+-------+-----------------+------------------+\n",
      "\n"
     ]
    }
   ],
   "source": [
    "salary_df.describe(['BasePay', 'Bonus']).show()"
   ]
  },
  {
   "cell_type": "code",
   "execution_count": 15,
   "id": "f6d0eee1",
   "metadata": {},
   "outputs": [
    {
     "name": "stdout",
     "output_type": "stream",
     "text": [
      "+-------------------+------+---+--------+-----------+--------------+---------+-------+-----+---------+\n",
      "|           JobTitle|Gender|Age|PerfEval|  Education|          Dept|Seniority|BasePay|Bonus|CompanyID|\n",
      "+-------------------+------+---+--------+-----------+--------------+---------+-------+-----+---------+\n",
      "|            Manager|Female| 60|       4|        PhD|    Management|        3| 140614| 8354|      812|\n",
      "|            Manager|Female| 62|       4|    Masters|         Sales|        4| 125203| 7808|        5|\n",
      "|            Manager|Female| 45|       1|High School|   Engineering|        5| 129893| 5120|     1003|\n",
      "|  Financial Analyst|Female| 47|       5|High School|         Sales|        5| 126190| 8961|      417|\n",
      "|            Manager|Female| 62|       4|    Masters|Administration|        3| 106008| 6235|      884|\n",
      "|            Manager|Female| 57|       1|    Masters|    Operations|        3| 145095| 3889|      590|\n",
      "|            Manager|Female| 45|       2|High School|    Management|        5| 104146| 6340|      624|\n",
      "|    Sales Associate|Female| 65|       2|        PhD|         Sales|        5| 122505| 4214|      606|\n",
      "|     Data Scientist|Female| 58|       1|High School|         Sales|        5| 101005| 3384|      680|\n",
      "|     Data Scientist|Female| 51|       1|        PhD|         Sales|        5| 119141| 4969|      930|\n",
      "|  Financial Analyst|Female| 61|       1|    Masters|   Engineering|        4| 119042| 2982|      792|\n",
      "|     Data Scientist|Female| 55|       2|    Masters|         Sales|        5| 118365| 5359|      689|\n",
      "|            Manager|Female| 59|       2|High School|    Management|        2| 116215| 3603|      829|\n",
      "|            Manager|Female| 55|       1|High School|Administration|        3| 115638| 2824|     1279|\n",
      "|Warehouse Associate|Female| 58|       1|    Masters|    Management|        4| 134109| 4184|     1086|\n",
      "|   Graphic Designer|Female| 57|       2|    Masters|         Sales|        5| 133741| 4925|      833|\n",
      "|     Data Scientist|Female| 53|       5|    Masters|   Engineering|        5| 103495| 8552|      489|\n",
      "|                 IT|Female| 44|       2|        PhD|    Operations|        5| 102267| 5679|     1139|\n",
      "|    Sales Associate|Female| 61|       3|        PhD|    Management|        4| 131608| 6537|      815|\n",
      "|                 IT|Female| 44|       1|High School|         Sales|        5| 101411| 3084|     1247|\n",
      "+-------------------+------+---+--------+-----------+--------------+---------+-------+-----+---------+\n",
      "only showing top 20 rows\n",
      "\n"
     ]
    }
   ],
   "source": [
    "salary_df.filter(\"Gender=='Female'\").show()"
   ]
  },
  {
   "cell_type": "code",
   "execution_count": 3,
   "id": "4e661d68",
   "metadata": {},
   "outputs": [],
   "source": [
    "salary_df = salary_df.na.drop()\n",
    "salary_df = salary_df.withColumn(\"TotalSalary\", salary_df.BasePay + salary_df.Bonus)\n",
    "df = salary_df.join(avg_df, salary_df.JobTitle == avg_df.JobTitle, \"inner\")\n",
    "df = df.withColumn(\"BelowAvg\", df.TotalSalary < df.AvgSalary)\n",
    "\n",
    "df_cols = df.columns\n",
    "# get index of the duplicate columns\n",
    "duplicate_col_index = list(set([df_cols.index(c) for c in df_cols if df_cols.count(c) == 2]))\n",
    "\n",
    "# rename by adding suffix '_duplicated'\n",
    "for i in duplicate_col_index:\n",
    "    df_cols[i] = df_cols[i] + '_duplicated'\n",
    "\n",
    "# rename the column in DF\n",
    "df = df.toDF(*df_cols)\n",
    "\n",
    "# remove flagged columns\n",
    "cols_to_remove = [c for c in df_cols if '_duplicated' in c]\n",
    "df = df.drop(*cols_to_remove)"
   ]
  },
  {
   "cell_type": "code",
   "execution_count": 7,
   "id": "d5a8d6b0",
   "metadata": {},
   "outputs": [
    {
     "name": "stdout",
     "output_type": "stream",
     "text": [
      "root\n",
      " |-- Age: integer (nullable = true)\n",
      " |-- PerfEval: integer (nullable = true)\n",
      " |-- Seniority: integer (nullable = true)\n",
      " |-- BelowAvg: boolean (nullable = true)\n",
      " |-- JobEncoded: vector (nullable = true)\n",
      " |-- EducationEncoded: vector (nullable = true)\n",
      " |-- DeptEncoded: vector (nullable = true)\n",
      "\n"
     ]
    }
   ],
   "source": [
    "df.printSchema()"
   ]
  },
  {
   "cell_type": "code",
   "execution_count": 5,
   "id": "6ce81d82",
   "metadata": {
    "scrolled": true
   },
   "outputs": [
    {
     "name": "stderr",
     "output_type": "stream",
     "text": [
      "                                                                                \r"
     ]
    }
   ],
   "source": [
    "from pyspark.ml.feature import StringIndexer\n",
    "job_indexer = StringIndexer(inputCol=\"JobTitle\", outputCol=\"JobIndex\")\n",
    "edu_indexer = StringIndexer(inputCol=\"Education\", outputCol=\"EducationIndex\")\n",
    "dept_indexer = StringIndexer(inputCol=\"Dept\", outputCol=\"DeptIndex\")\n",
    "#below_indexer = StringIndexer(inputCol=\"BelowAvg\", outputCol=\"BelowIndex\")\n",
    "df = job_indexer.fit(df).transform(df)\n",
    "df = edu_indexer.fit(df).transform(df)\n",
    "df = dept_indexer.fit(df).transform(df)\n",
    "#df = below_indexer.fit(df).transform(df)\n",
    "\n",
    "from pyspark.ml.feature import OneHotEncoder\n",
    "ohe = OneHotEncoder(inputCols=[\"JobIndex\", \"EducationIndex\", \"DeptIndex\"], \n",
    "                    outputCols=[\"JobEncoded\", \"EducationEncoded\", \"DeptEncoded\"])\n",
    "df = ohe.fit(df).transform(df)\n",
    "\n",
    "df = df.drop(\"Gender\", \"Education\", \"Dept\", \"BasePay\", \"Bonus\", \"CompanyID\", \"TotalSalary\", \"JobTitle\", \"AvgSalary\", \"EducationIndex\", \"JobIndex\", \"DeptIndex\")\n",
    "df.show()"
   ]
  },
  {
   "cell_type": "code",
   "execution_count": 14,
   "id": "02cc2974",
   "metadata": {},
   "outputs": [],
   "source": [
    "df = df.withColumn(\"BelowAvg\",df.BelowAvg.cast('int'))"
   ]
  },
  {
   "cell_type": "code",
   "execution_count": 15,
   "id": "1b9702e9",
   "metadata": {},
   "outputs": [
    {
     "name": "stdout",
     "output_type": "stream",
     "text": [
      "+--------------------+--------+\n",
      "|            features|BelowAvg|\n",
      "+--------------------+--------+\n",
      "|(19,[0,1,2,11,17]...|       0|\n",
      "|(19,[0,1,2,11,16]...|       0|\n",
      "|(19,[0,1,2,8,13,1...|       0|\n",
      "|(19,[0,1,2,11,12,...|       0|\n",
      "|(19,[0,1,2,11,17]...|       0|\n",
      "|(19,[0,1,2,4,14,1...|       0|\n",
      "|(19,[0,1,2,4,12,1...|       0|\n",
      "|(19,[0,1,2,11,14,...|       0|\n",
      "|(19,[0,1,2,11,14]...|       0|\n",
      "|(19,[0,1,2,4,16],...|       0|\n",
      "|(19,[0,1,2,11,18]...|       0|\n",
      "|(19,[0,1,2,4,13,1...|       0|\n",
      "|(19,[0,1,2,11,13,...|       0|\n",
      "|(19,[0,1,2,4,13,1...|       0|\n",
      "|(19,[0,1,2,11,13,...|       0|\n",
      "|(19,[0,1,2,4,13,1...|       0|\n",
      "|(19,[0,1,2,11,14,...|       0|\n",
      "|(19,[0,1,2,11,17]...|       0|\n",
      "|(19,[0,1,2,11],[5...|       0|\n",
      "|(19,[0,1,2,11,15]...|       0|\n",
      "+--------------------+--------+\n",
      "only showing top 20 rows\n",
      "\n"
     ]
    }
   ],
   "source": [
    "from pyspark.ml.linalg import Vectors \n",
    "from pyspark.ml.feature import VectorAssembler\n",
    "\n",
    "\n",
    "assembler = VectorAssembler(inputCols=['Age','PerfEval','Seniority','JobEncoded','EducationEncoded','DeptEncoded'], outputCol='features')\n",
    "output = assembler.transform(df)\n",
    "final_data = output.select('features','BelowAvg')\n",
    "final_data.show()"
   ]
  },
  {
   "cell_type": "code",
   "execution_count": 18,
   "id": "c51292ea",
   "metadata": {},
   "outputs": [
    {
     "name": "stderr",
     "output_type": "stream",
     "text": [
      "Exception ignored in: <function JavaWrapper.__del__ at 0x7ff18c5389d0>\n",
      "Traceback (most recent call last):\n",
      "  File \"/home/ubuntu/spark-3.2.1-bin-hadoop2.7/python/pyspark/ml/wrapper.py\", line 39, in __del__\n",
      "    if SparkContext._active_spark_context and self._java_obj is not None:\n",
      "AttributeError: 'RandomForestClassifier' object has no attribute '_java_obj'\n"
     ]
    },
    {
     "data": {
      "text/plain": [
       "SparseVector(19, {0: 0.5212, 1: 0.0148, 2: 0.3503, 3: 0.0063, 4: 0.0013, 5: 0.01, 6: 0.0031, 7: 0.0045, 8: 0.0038, 9: 0.0028, 10: 0.001, 11: 0.0082, 12: 0.016, 13: 0.0161, 14: 0.0039, 15: 0.0045, 16: 0.0147, 17: 0.0087, 18: 0.0088})"
      ]
     },
     "execution_count": 18,
     "metadata": {},
     "output_type": "execute_result"
    }
   ],
   "source": [
    "from pyspark.ml.classification import RandomForestClassifier \n",
    "rf = RandomForestClassifier(labelCol='BelowAvg', featuresCol='features')\n",
    "model = rf.fit(final_data)\n",
    "model.featureImportances"
   ]
  },
  {
   "cell_type": "code",
   "execution_count": null,
   "id": "6ee6771f",
   "metadata": {},
   "outputs": [],
   "source": []
  }
 ],
 "metadata": {
  "kernelspec": {
   "display_name": "Python 3 (ipykernel)",
   "language": "python",
   "name": "python3"
  },
  "language_info": {
   "codemirror_mode": {
    "name": "ipython",
    "version": 3
   },
   "file_extension": ".py",
   "mimetype": "text/x-python",
   "name": "python",
   "nbconvert_exporter": "python",
   "pygments_lexer": "ipython3",
   "version": "3.10.4"
  }
 },
 "nbformat": 4,
 "nbformat_minor": 5
}
