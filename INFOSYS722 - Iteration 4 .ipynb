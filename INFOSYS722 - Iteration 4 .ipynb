{
 "cells": [
  {
   "cell_type": "code",
   "execution_count": 2,
   "id": "b48fb972",
   "metadata": {},
   "outputs": [
    {
     "name": "stderr",
     "output_type": "stream",
     "text": [
      "WARNING: An illegal reflective access operation has occurred\n",
      "WARNING: Illegal reflective access by org.apache.spark.unsafe.Platform (file:/home/ubuntu/spark-3.2.1-bin-hadoop2.7/jars/spark-unsafe_2.12-3.2.1.jar) to constructor java.nio.DirectByteBuffer(long,int)\n",
      "WARNING: Please consider reporting this to the maintainers of org.apache.spark.unsafe.Platform\n",
      "WARNING: Use --illegal-access=warn to enable warnings of further illegal reflective access operations\n",
      "WARNING: All illegal access operations will be denied in a future release\n",
      "Using Spark's default log4j profile: org/apache/spark/log4j-defaults.properties\n",
      "Setting default log level to \"WARN\".\n",
      "To adjust logging level use sc.setLogLevel(newLevel). For SparkR, use setLogLevel(newLevel).\n",
      "22/10/13 08:20:02 WARN NativeCodeLoader: Unable to load native-hadoop library for your platform... using builtin-java classes where applicable\n"
     ]
    }
   ],
   "source": [
    "import findspark\n",
    "findspark.init('/home/ubuntu/spark-3.2.1-bin-hadoop2.7')\n",
    "import pyspark\n",
    "from pyspark.sql import SparkSession\n",
    "spark = SparkSession.builder.appName('not basics').getOrCreate()\n",
    "\n",
    "avg_df = spark.read.csv(\"./AvgSalary.csv\", header=True)\n",
    "salary_df = spark.read.csv(\"./Glassdoor Gender Pay Gap.csv\", header=True, inferSchema=True)\n",
    "\n",
    "salary_df = salary_df.na.drop()\n",
    "salary_df = salary_df.withColumn(\"TotalSalary\", salary_df.BasePay + salary_df.Bonus)\n",
    "df = salary_df.join(avg_df, salary_df.JobTitle == avg_df.JobTitle, \"inner\")\n",
    "df = df.withColumn(\"BelowAvg\", df.TotalSalary < df.AvgSalary)\n",
    "\n",
    "df_cols = df.columns\n",
    "# get index of the duplicate columns\n",
    "duplicate_col_index = list(set([df_cols.index(c) for c in df_cols if df_cols.count(c) == 2]))\n",
    "\n",
    "# rename by adding suffix '_duplicated'\n",
    "for i in duplicate_col_index:\n",
    "    df_cols[i] = df_cols[i] + '_duplicated'\n",
    "\n",
    "# rename the column in DF\n",
    "df = df.toDF(*df_cols)\n",
    "\n",
    "# remove flagged columns\n",
    "cols_to_remove = [c for c in df_cols if '_duplicated' in c]\n",
    "df = df.drop(*cols_to_remove)"
   ]
  },
  {
   "cell_type": "code",
   "execution_count": 3,
   "id": "74e6283e",
   "metadata": {},
   "outputs": [
    {
     "data": {
      "text/html": [
       "<style>.container { width:100% !important; }</style>"
      ],
      "text/plain": [
       "<IPython.core.display.HTML object>"
      ]
     },
     "metadata": {},
     "output_type": "display_data"
    }
   ],
   "source": [
    "from IPython.display import display, HTML\n",
    "display(HTML(\"<style>.container { width:100% !important; }</style>\"))"
   ]
  },
  {
   "cell_type": "code",
   "execution_count": 4,
   "id": "d9036cda",
   "metadata": {},
   "outputs": [
    {
     "name": "stderr",
     "output_type": "stream",
     "text": [
      "\r",
      "[Stage 3:>                                                          (0 + 1) / 1]\r"
     ]
    },
    {
     "name": "stdout",
     "output_type": "stream",
     "text": [
      "+-------+-------------------+------+------------------+------------------+---------+--------------+------------------+-----------------+------------------+------------------+\n",
      "|summary|           JobTitle|Gender|               Age|          PerfEval|Education|          Dept|         Seniority|          BasePay|             Bonus|         CompanyID|\n",
      "+-------+-------------------+------+------------------+------------------+---------+--------------+------------------+-----------------+------------------+------------------+\n",
      "|  count|               1000|  1000|              1000|              1000|      989|           999|              1000|             1000|              1000|              1000|\n",
      "|   mean|               null|  null|            41.393|             3.037|     null|          null|             2.971|        93994.653|          6506.161|           688.204|\n",
      "| stddev|               null|  null|14.294855504477594|1.4239587980902595|     null|          null|1.3950287112117459|25530.79670901769|2479.4433190236978|374.39559618997464|\n",
      "|    min|     Data Scientist|Female|                18|                 1|  College|Administration|                 1|            34208|               149|                 4|\n",
      "|    25%|               null|  null|                29|                 2|     null|          null|                 2|            76654|              4845|               385|\n",
      "|    50%|               null|  null|                41|                 3|     null|          null|                 3|            93073|              6508|               701|\n",
      "|    75%|               null|  null|                54|                 4|     null|          null|                 4|           110078|              8035|              1006|\n",
      "|    max|Warehouse Associate|  Male|                65|                 5|      PhD|         Sales|                 5|           242105|             50000|              1314|\n",
      "+-------+-------------------+------+------------------+------------------+---------+--------------+------------------+-----------------+------------------+------------------+\n",
      "\n"
     ]
    },
    {
     "name": "stderr",
     "output_type": "stream",
     "text": [
      "\r",
      "                                                                                \r"
     ]
    }
   ],
   "source": [
    "salary_df.summary().show()"
   ]
  },
  {
   "cell_type": "code",
   "execution_count": 1,
   "id": "91a3a973",
   "metadata": {},
   "outputs": [
    {
     "ename": "NameError",
     "evalue": "name 'salary_df' is not defined",
     "output_type": "error",
     "traceback": [
      "\u001b[0;31m---------------------------------------------------------------------------\u001b[0m",
      "\u001b[0;31mNameError\u001b[0m                                 Traceback (most recent call last)",
      "Input \u001b[0;32mIn [1]\u001b[0m, in \u001b[0;36m<cell line: 1>\u001b[0;34m()\u001b[0m\n\u001b[0;32m----> 1\u001b[0m \u001b[43msalary_df\u001b[49m\u001b[38;5;241m.\u001b[39mshow()\n",
      "\u001b[0;31mNameError\u001b[0m: name 'salary_df' is not defined"
     ]
    }
   ],
   "source": [
    "salary_df.show()"
   ]
  },
  {
   "cell_type": "code",
   "execution_count": 6,
   "id": "30105df2",
   "metadata": {},
   "outputs": [
    {
     "name": "stdout",
     "output_type": "stream",
     "text": [
      "+--------+------+---+--------+---------+----+---------+-------+-----+---------+\n",
      "|JobTitle|Gender|Age|PerfEval|Education|Dept|Seniority|BasePay|Bonus|CompanyID|\n",
      "+--------+------+---+--------+---------+----+---------+-------+-----+---------+\n",
      "|       0|     0|  0|       0|       11|   1|        0|      0|    0|        0|\n",
      "+--------+------+---+--------+---------+----+---------+-------+-----+---------+\n",
      "\n"
     ]
    }
   ],
   "source": [
    "from pyspark.sql import functions as F\n",
    "df_agg = salary_df.agg(*(F.count(F.when(F.isnull(c),c)).alias(c) for c in salary_df.columns))\n",
    "\n",
    "df_agg.show()"
   ]
  },
  {
   "cell_type": "code",
   "execution_count": 12,
   "id": "53f5b578",
   "metadata": {},
   "outputs": [
    {
     "name": "stdout",
     "output_type": "stream",
     "text": [
      "+-------+-----------------+------------------+\n",
      "|summary|          BasePay|             Bonus|\n",
      "+-------+-----------------+------------------+\n",
      "|  count|             1000|              1000|\n",
      "|   mean|        93994.653|          6506.161|\n",
      "| stddev|25530.79670901769|2479.4433190236978|\n",
      "|    min|            34208|               149|\n",
      "|    max|           242105|             50000|\n",
      "+-------+-----------------+------------------+\n",
      "\n"
     ]
    }
   ],
   "source": [
    "salary_df.describe(['BasePay', 'Bonus']).show()"
   ]
  },
  {
   "cell_type": "code",
   "execution_count": 15,
   "id": "f6d0eee1",
   "metadata": {},
   "outputs": [
    {
     "name": "stdout",
     "output_type": "stream",
     "text": [
      "+-------------------+------+---+--------+-----------+--------------+---------+-------+-----+---------+\n",
      "|           JobTitle|Gender|Age|PerfEval|  Education|          Dept|Seniority|BasePay|Bonus|CompanyID|\n",
      "+-------------------+------+---+--------+-----------+--------------+---------+-------+-----+---------+\n",
      "|            Manager|Female| 60|       4|        PhD|    Management|        3| 140614| 8354|      812|\n",
      "|            Manager|Female| 62|       4|    Masters|         Sales|        4| 125203| 7808|        5|\n",
      "|            Manager|Female| 45|       1|High School|   Engineering|        5| 129893| 5120|     1003|\n",
      "|  Financial Analyst|Female| 47|       5|High School|         Sales|        5| 126190| 8961|      417|\n",
      "|            Manager|Female| 62|       4|    Masters|Administration|        3| 106008| 6235|      884|\n",
      "|            Manager|Female| 57|       1|    Masters|    Operations|        3| 145095| 3889|      590|\n",
      "|            Manager|Female| 45|       2|High School|    Management|        5| 104146| 6340|      624|\n",
      "|    Sales Associate|Female| 65|       2|        PhD|         Sales|        5| 122505| 4214|      606|\n",
      "|     Data Scientist|Female| 58|       1|High School|         Sales|        5| 101005| 3384|      680|\n",
      "|     Data Scientist|Female| 51|       1|        PhD|         Sales|        5| 119141| 4969|      930|\n",
      "|  Financial Analyst|Female| 61|       1|    Masters|   Engineering|        4| 119042| 2982|      792|\n",
      "|     Data Scientist|Female| 55|       2|    Masters|         Sales|        5| 118365| 5359|      689|\n",
      "|            Manager|Female| 59|       2|High School|    Management|        2| 116215| 3603|      829|\n",
      "|            Manager|Female| 55|       1|High School|Administration|        3| 115638| 2824|     1279|\n",
      "|Warehouse Associate|Female| 58|       1|    Masters|    Management|        4| 134109| 4184|     1086|\n",
      "|   Graphic Designer|Female| 57|       2|    Masters|         Sales|        5| 133741| 4925|      833|\n",
      "|     Data Scientist|Female| 53|       5|    Masters|   Engineering|        5| 103495| 8552|      489|\n",
      "|                 IT|Female| 44|       2|        PhD|    Operations|        5| 102267| 5679|     1139|\n",
      "|    Sales Associate|Female| 61|       3|        PhD|    Management|        4| 131608| 6537|      815|\n",
      "|                 IT|Female| 44|       1|High School|         Sales|        5| 101411| 3084|     1247|\n",
      "+-------------------+------+---+--------+-----------+--------------+---------+-------+-----+---------+\n",
      "only showing top 20 rows\n",
      "\n"
     ]
    }
   ],
   "source": [
    "salary_df.filter(\"Gender=='Female'\").show()"
   ]
  },
  {
   "cell_type": "code",
   "execution_count": 2,
   "id": "4e661d68",
   "metadata": {},
   "outputs": [],
   "source": [
    "salary_df = salary_df.na.drop()\n",
    "salary_df = salary_df.withColumn(\"TotalSalary\", salary_df.BasePay + salary_df.Bonus)\n",
    "df = salary_df.join(avg_df, salary_df.JobTitle == avg_df.JobTitle, \"inner\")\n",
    "df = df.withColumn(\"BelowAvg\", df.TotalSalary < df.AvgSalary)\n",
    "\n",
    "df_cols = df.columns\n",
    "# get index of the duplicate columns\n",
    "duplicate_col_index = list(set([df_cols.index(c) for c in df_cols if df_cols.count(c) == 2]))\n",
    "\n",
    "# rename by adding suffix '_duplicated'\n",
    "for i in duplicate_col_index:\n",
    "    df_cols[i] = df_cols[i] + '_duplicated'\n",
    "\n",
    "# rename the column in DF\n",
    "df = df.toDF(*df_cols)\n",
    "\n",
    "# remove flagged columns\n",
    "cols_to_remove = [c for c in df_cols if '_duplicated' in c]\n",
    "df = df.drop(*cols_to_remove)"
   ]
  },
  {
   "cell_type": "code",
   "execution_count": 7,
   "id": "d5a8d6b0",
   "metadata": {},
   "outputs": [
    {
     "name": "stdout",
     "output_type": "stream",
     "text": [
      "root\n",
      " |-- Age: integer (nullable = true)\n",
      " |-- PerfEval: integer (nullable = true)\n",
      " |-- Seniority: integer (nullable = true)\n",
      " |-- BelowAvg: boolean (nullable = true)\n",
      " |-- JobEncoded: vector (nullable = true)\n",
      " |-- EducationEncoded: vector (nullable = true)\n",
      " |-- DeptEncoded: vector (nullable = true)\n",
      "\n"
     ]
    }
   ],
   "source": [
    "df.printSchema()"
   ]
  },
  {
   "cell_type": "code",
   "execution_count": 3,
   "id": "6ce81d82",
   "metadata": {
    "scrolled": true
   },
   "outputs": [
    {
     "name": "stderr",
     "output_type": "stream",
     "text": [
      "                                                                                \r"
     ]
    },
    {
     "name": "stdout",
     "output_type": "stream",
     "text": [
      "+---+--------+---------+--------+-------------+----------------+-------------+\n",
      "|Age|PerfEval|Seniority|BelowAvg|   JobEncoded|EducationEncoded|  DeptEncoded|\n",
      "+---+--------+---------+--------+-------------+----------------+-------------+\n",
      "| 58|       1|        4|       0|(9,[8],[1.0])|       (3,[],[])|(4,[2],[1.0])|\n",
      "| 59|       4|        5|       0|(9,[8],[1.0])|       (3,[],[])|(4,[1],[1.0])|\n",
      "| 65|       4|        5|       0|(9,[5],[1.0])|   (3,[1],[1.0])|(4,[1],[1.0])|\n",
      "| 55|       1|        5|       0|(9,[8],[1.0])|   (3,[0],[1.0])|(4,[2],[1.0])|\n",
      "| 60|       4|        3|       0|(9,[8],[1.0])|       (3,[],[])|(4,[2],[1.0])|\n",
      "| 59|       1|        5|       0|(9,[1],[1.0])|   (3,[2],[1.0])|(4,[1],[1.0])|\n",
      "| 65|       4|        5|       0|(9,[1],[1.0])|   (3,[0],[1.0])|(4,[2],[1.0])|\n",
      "| 60|       4|        3|       0|(9,[8],[1.0])|   (3,[2],[1.0])|(4,[2],[1.0])|\n",
      "| 62|       5|        5|       0|(9,[8],[1.0])|   (3,[2],[1.0])|    (4,[],[])|\n",
      "| 64|       2|        5|       0|(9,[1],[1.0])|       (3,[],[])|(4,[1],[1.0])|\n",
      "| 48|       2|        4|       0|(9,[8],[1.0])|       (3,[],[])|(4,[3],[1.0])|\n",
      "| 59|       4|        4|       0|(9,[1],[1.0])|   (3,[1],[1.0])|(4,[3],[1.0])|\n",
      "| 47|       1|        4|       0|(9,[8],[1.0])|   (3,[1],[1.0])|(4,[3],[1.0])|\n",
      "| 60|       4|        5|       0|(9,[1],[1.0])|   (3,[1],[1.0])|(4,[1],[1.0])|\n",
      "| 62|       4|        4|       0|(9,[8],[1.0])|   (3,[1],[1.0])|(4,[1],[1.0])|\n",
      "| 58|       4|        5|       0|(9,[1],[1.0])|   (3,[1],[1.0])|(4,[3],[1.0])|\n",
      "| 55|       2|        5|       0|(9,[8],[1.0])|   (3,[2],[1.0])|(4,[2],[1.0])|\n",
      "| 43|       1|        4|       0|(9,[8],[1.0])|       (3,[],[])|(4,[2],[1.0])|\n",
      "| 56|       2|        4|       0|(9,[8],[1.0])|       (3,[],[])|    (4,[],[])|\n",
      "| 57|       3|        5|       0|(9,[8],[1.0])|       (3,[],[])|(4,[0],[1.0])|\n",
      "+---+--------+---------+--------+-------------+----------------+-------------+\n",
      "only showing top 20 rows\n",
      "\n"
     ]
    }
   ],
   "source": [
    "from pyspark.ml.feature import StringIndexer\n",
    "job_indexer = StringIndexer(inputCol=\"JobTitle\", outputCol=\"JobIndex\")\n",
    "edu_indexer = StringIndexer(inputCol=\"Education\", outputCol=\"EducationIndex\")\n",
    "dept_indexer = StringIndexer(inputCol=\"Dept\", outputCol=\"DeptIndex\")\n",
    "#below_indexer = StringIndexer(inputCol=\"BelowAvg\", outputCol=\"BelowIndex\")\n",
    "df = job_indexer.fit(df).transform(df)\n",
    "df = edu_indexer.fit(df).transform(df)\n",
    "df = dept_indexer.fit(df).transform(df)\n",
    "#df = below_indexer.fit(df).transform(df)\n",
    "\n",
    "from pyspark.ml.feature import OneHotEncoder\n",
    "ohe = OneHotEncoder(inputCols=[\"JobIndex\", \"EducationIndex\", \"DeptIndex\"], \n",
    "                    outputCols=[\"JobEncoded\", \"EducationEncoded\", \"DeptEncoded\"])\n",
    "df = ohe.fit(df).transform(df)\n",
    "\n",
    "df = df.drop(\"Gender\", \"Education\", \"Dept\", \"BasePay\", \"Bonus\", \"CompanyID\", \"TotalSalary\", \"JobTitle\", \"AvgSalary\", \"EducationIndex\", \"JobIndex\", \"DeptIndex\")\n",
    "df = df.withColumn(\"BelowAvg\",df.BelowAvg.cast('int'))\n",
    "df.show()"
   ]
  },
  {
   "cell_type": "code",
   "execution_count": 4,
   "id": "1b9702e9",
   "metadata": {},
   "outputs": [
    {
     "name": "stdout",
     "output_type": "stream",
     "text": [
      "+--------------------+--------+\n",
      "|            features|BelowAvg|\n",
      "+--------------------+--------+\n",
      "|(19,[0,1,2,11,17]...|       0|\n",
      "|(19,[0,1,2,11,16]...|       0|\n",
      "|(19,[0,1,2,8,13,1...|       0|\n",
      "|(19,[0,1,2,11,12,...|       0|\n",
      "|(19,[0,1,2,11,17]...|       0|\n",
      "|(19,[0,1,2,4,14,1...|       0|\n",
      "|(19,[0,1,2,4,12,1...|       0|\n",
      "|(19,[0,1,2,11,14,...|       0|\n",
      "|(19,[0,1,2,11,14]...|       0|\n",
      "|(19,[0,1,2,4,16],...|       0|\n",
      "|(19,[0,1,2,11,18]...|       0|\n",
      "|(19,[0,1,2,4,13,1...|       0|\n",
      "|(19,[0,1,2,11,13,...|       0|\n",
      "|(19,[0,1,2,4,13,1...|       0|\n",
      "|(19,[0,1,2,11,13,...|       0|\n",
      "|(19,[0,1,2,4,13,1...|       0|\n",
      "|(19,[0,1,2,11,14,...|       0|\n",
      "|(19,[0,1,2,11,17]...|       0|\n",
      "|(19,[0,1,2,11],[5...|       0|\n",
      "|(19,[0,1,2,11,15]...|       0|\n",
      "+--------------------+--------+\n",
      "only showing top 20 rows\n",
      "\n"
     ]
    }
   ],
   "source": [
    "from pyspark.ml.linalg import Vectors \n",
    "from pyspark.ml.feature import VectorAssembler\n",
    "\n",
    "\n",
    "assembler = VectorAssembler(inputCols=['Age','PerfEval','Seniority','JobEncoded','EducationEncoded','DeptEncoded'], outputCol='features')\n",
    "output = assembler.transform(df)\n",
    "final_data = output.select('features','BelowAvg')\n",
    "final_data.show()"
   ]
  },
  {
   "cell_type": "code",
   "execution_count": 14,
   "id": "dff7b1e1",
   "metadata": {},
   "outputs": [
    {
     "data": {
      "text/plain": [
       "SparseVector(19, {0: 0.4742, 1: 0.0155, 2: 0.3773, 3: 0.0144, 4: 0.001, 5: 0.0108, 6: 0.0038, 7: 0.008, 8: 0.0081, 9: 0.0027, 10: 0.0047, 11: 0.0057, 12: 0.0253, 13: 0.0098, 14: 0.0041, 15: 0.0036, 16: 0.0093, 17: 0.0096, 18: 0.0124})"
      ]
     },
     "execution_count": 14,
     "metadata": {},
     "output_type": "execute_result"
    }
   ],
   "source": [
    "from pyspark.ml.classification import RandomForestClassifier \n",
    "rf = RandomForestClassifier(labelCol='BelowAvg', featuresCol='features')\n",
    "model = rf.fit(final_data)\n",
    "model.featureImportances"
   ]
  },
  {
   "cell_type": "code",
   "execution_count": 15,
   "id": "6c64538f",
   "metadata": {},
   "outputs": [
    {
     "name": "stdout",
     "output_type": "stream",
     "text": [
      "+--------------------+--------+--------------------+\n",
      "|            features|BelowAvg|      ScaledFeatures|\n",
      "+--------------------+--------+--------------------+\n",
      "|(19,[0,1,2,11,17]...|       0|(19,[0,2,11,17],[...|\n",
      "|(19,[0,1,2,11,16]...|       0|(19,[0,1,2,11,16]...|\n",
      "|(19,[0,1,2,8,13,1...|       0|(19,[0,1,2,8,13,1...|\n",
      "|(19,[0,1,2,11,12,...|       0|(19,[0,2,11,12,17...|\n",
      "|(19,[0,1,2,11,17]...|       0|(19,[0,1,2,11,17]...|\n",
      "|(19,[0,1,2,4,14,1...|       0|(19,[0,2,4,14,16]...|\n",
      "|(19,[0,1,2,4,12,1...|       0|(19,[0,1,2,4,12,1...|\n",
      "|(19,[0,1,2,11,14,...|       0|(19,[0,1,2,11,14,...|\n",
      "|(19,[0,1,2,11,14]...|       0|(19,[0,1,2,11,14]...|\n",
      "|(19,[0,1,2,4,16],...|       0|(19,[0,1,2,4,16],...|\n",
      "|(19,[0,1,2,11,18]...|       0|(19,[0,1,2,11,18]...|\n",
      "|(19,[0,1,2,4,13,1...|       0|(19,[0,1,2,4,13,1...|\n",
      "|(19,[0,1,2,11,13,...|       0|(19,[0,2,11,13,18...|\n",
      "|(19,[0,1,2,4,13,1...|       0|(19,[0,1,2,4,13,1...|\n",
      "|(19,[0,1,2,11,13,...|       0|(19,[0,1,2,11,13,...|\n",
      "|(19,[0,1,2,4,13,1...|       0|(19,[0,1,2,4,13,1...|\n",
      "|(19,[0,1,2,11,14,...|       0|(19,[0,1,2,11,14,...|\n",
      "|(19,[0,1,2,11,17]...|       0|(19,[0,2,11,17],[...|\n",
      "|(19,[0,1,2,11],[5...|       0|(19,[0,1,2,11],[0...|\n",
      "|(19,[0,1,2,11,15]...|       0|(19,[0,1,2,11,15]...|\n",
      "+--------------------+--------+--------------------+\n",
      "only showing top 20 rows\n",
      "\n"
     ]
    }
   ],
   "source": [
    "from pyspark.ml.feature import MinMaxScaler\n",
    "scaler = MinMaxScaler(inputCol=\"features\", outputCol='ScaledFeatures')\n",
    "scaled_final_data = scaler.fit(final_data).transform(final_data)\n",
    "scaled_final_data.show()"
   ]
  },
  {
   "cell_type": "code",
   "execution_count": 23,
   "id": "c9736279",
   "metadata": {},
   "outputs": [
    {
     "name": "stdout",
     "output_type": "stream",
     "text": [
      "DecisionTreeClassificationModel: uid=DecisionTreeClassifier_5dbd2d9d9c6f, depth=4, numNodes=27, numClasses=2, numFeatures=19\n",
      "  If (feature 0 <= 38.5)\n",
      "   If (feature 2 <= 4.5)\n",
      "    If (feature 2 <= 3.5)\n",
      "     Predict: 1.0\n",
      "    Else (feature 2 > 3.5)\n",
      "     If (feature 0 <= 33.5)\n",
      "      Predict: 1.0\n",
      "     Else (feature 0 > 33.5)\n",
      "      Predict: 0.0\n",
      "   Else (feature 2 > 4.5)\n",
      "    If (feature 0 <= 24.5)\n",
      "     If (feature 0 <= 18.5)\n",
      "      Predict: 1.0\n",
      "     Else (feature 0 > 18.5)\n",
      "      Predict: 0.0\n",
      "    Else (feature 0 > 24.5)\n",
      "     If (feature 3 in {1.0})\n",
      "      Predict: 1.0\n",
      "     Else (feature 3 not in {1.0})\n",
      "      Predict: 0.0\n",
      "  Else (feature 0 > 38.5)\n",
      "   If (feature 2 <= 2.5)\n",
      "    If (feature 0 <= 57.5)\n",
      "     If (feature 5 in {1.0})\n",
      "      Predict: 0.0\n",
      "     Else (feature 5 not in {1.0})\n",
      "      Predict: 1.0\n",
      "    Else (feature 0 > 57.5)\n",
      "     If (feature 3 in {1.0})\n",
      "      Predict: 1.0\n",
      "     Else (feature 3 not in {1.0})\n",
      "      Predict: 0.0\n",
      "   Else (feature 2 > 2.5)\n",
      "    If (feature 2 <= 3.5)\n",
      "     If (feature 0 <= 49.5)\n",
      "      Predict: 1.0\n",
      "     Else (feature 0 > 49.5)\n",
      "      Predict: 0.0\n",
      "    Else (feature 2 > 3.5)\n",
      "     Predict: 0.0\n",
      "\n"
     ]
    }
   ],
   "source": [
    "from pyspark.ml.classification import DecisionTreeClassifier \n",
    "dt = DecisionTreeClassifier(labelCol='BelowAvg', featuresCol='features', maxDepth=4)\n",
    "model = dt.fit(final_data)\n",
    "print(model.toDebugString)"
   ]
  },
  {
   "cell_type": "code",
   "execution_count": 15,
   "id": "3d8feb90",
   "metadata": {},
   "outputs": [
    {
     "name": "stdout",
     "output_type": "stream",
     "text": [
      "Accuracy = 0.8523761375126391\n"
     ]
    }
   ],
   "source": [
    "from pyspark.ml.evaluation import MulticlassClassificationEvaluator\n",
    "pred = model.transform(final_data)\n",
    "evaluator = MulticlassClassificationEvaluator(labelCol=\"BelowAvg\", predictionCol=\"prediction\", metricName=\"accuracy\")\n",
    "accuracy = evaluator.evaluate(pred)\n",
    "print(\"Accuracy =\", accuracy)\n",
    "\n"
   ]
  },
  {
   "cell_type": "code",
   "execution_count": 5,
   "id": "c546b9ca",
   "metadata": {},
   "outputs": [
    {
     "data": {
      "text/plain": [
       "DenseVector([-0.1696, -0.2355, -1.7528, 1.5016, 0.2503, -0.4482, 0.0423, 0.0861, -0.2131, 0.51, 0.4281, 1.3552, 1.1892, -0.307, 0.7566, 0.0761, -1.1407, -0.2897, -0.8304])"
      ]
     },
     "execution_count": 5,
     "metadata": {},
     "output_type": "execute_result"
    }
   ],
   "source": [
    "from pyspark.ml.classification import LogisticRegression\n",
    "lr = LogisticRegression(labelCol=\"BelowAvg\",featuresCol='features')\n",
    "model = lr.fit(final_data)\n",
    "model.coefficients"
   ]
  },
  {
   "cell_type": "code",
   "execution_count": 9,
   "id": "e605fe8a",
   "metadata": {},
   "outputs": [
    {
     "name": "stdout",
     "output_type": "stream",
     "text": [
      "695\n",
      "294\n"
     ]
    }
   ],
   "source": [
    "train,test = final_data.randomSplit([0.7,0.3])\n",
    "print(train.count())\n",
    "print(test.count())"
   ]
  },
  {
   "cell_type": "code",
   "execution_count": 11,
   "id": "c23da26f",
   "metadata": {},
   "outputs": [
    {
     "name": "stdout",
     "output_type": "stream",
     "text": [
      "LogisticRegressionModel: uid=LogisticRegression_e3a4df12510a, numClasses=2, numFeatures=19\n"
     ]
    }
   ],
   "source": [
    "lr = LogisticRegression(labelCol=\"BelowAvg\",featuresCol='features')\n",
    "model = lr.fit(train)\n",
    "print(model)"
   ]
  },
  {
   "cell_type": "code",
   "execution_count": 16,
   "id": "14aeccab",
   "metadata": {},
   "outputs": [
    {
     "name": "stdout",
     "output_type": "stream",
     "text": [
      "The accuracy on the test set is:0.8163265306122449\n",
      "The accuracy on the training set is:0.8676258992805755\n"
     ]
    }
   ],
   "source": [
    "evaluator = MulticlassClassificationEvaluator(labelCol=\"BelowAvg\", predictionCol=\"prediction\", metricName=\"accuracy\")\n",
    "test_pred = model.transform(test)\n",
    "train_pred = model.transform(train)\n",
    "print(f\"The accuracy on the test set is: {evaluator.evaluate(test_pred)}\")\n",
    "print(f\"The accuracy on the training set is: {evaluator.evaluate(train_pred)}\")"
   ]
  },
  {
   "cell_type": "code",
   "execution_count": 21,
   "id": "b954b7a9",
   "metadata": {},
   "outputs": [
    {
     "name": "stdout",
     "output_type": "stream",
     "text": [
      "Age : -0.18926959836765017\n",
      "PerfEval : -0.3029330432877516\n",
      "Seniority : -1.9726054105908277\n",
      "Dept_Engineering : 2.197587022338662\n",
      "Dept_Management : 0.5811025004982264\n",
      "Dept_Sales : -0.5030752883003874\n",
      "Education_High School : 0.10300295278590749\n",
      "Education_Masters : 0.48796552156924455\n",
      "Education_PhD : 0.3268424786353768\n",
      "JobTitle_Driver : 0.7913239937730975\n",
      "JobTitle_Financial Analyst : 0.6689851230098209\n",
      "JobTitle_Graphic Designer : 1.495821633664943\n",
      "JobTitle_It : 1.565697637003981\n",
      "JobTitle_Manager : -0.4159940709273339\n",
      "JobTitle_Marketing Asscociate : 0.862626211648865\n",
      "JobTitle_Sales Associate : 0.3831818013533531\n",
      "JobTitle_Warehouse Associate : -1.1297921617674394\n",
      "JobTitle_Software Engineer : -0.39039605073062766\n"
     ]
    }
   ],
   "source": [
    "names = [\"Age\", \"PerfEval\", \"Seniority\", \"Dept_Engineering\", \"Dept_Management\", \"Dept_Sales\", \"Education_High School\", \"Education_Masters\", \"Education_PhD\", \"JobTitle_Driver\", \"JobTitle_Financial Analyst\", \"JobTitle_Graphic Designer\", \"JobTitle_It\", \"JobTitle_Manager\", \"JobTitle_Marketing Asscociate\", \"JobTitle_Sales Associate\", \"JobTitle_Warehouse Associate\",\"JobTitle_Software Engineer\"]\n",
    "coef = list(model.coefficients)\n",
    "\n",
    "for n,c in zip(names, coef):\n",
    "    print(n,\":\",c)"
   ]
  },
  {
   "cell_type": "code",
   "execution_count": 22,
   "id": "cab72ca4",
   "metadata": {},
   "outputs": [
    {
     "data": {
      "text/plain": [
       "984"
      ]
     },
     "execution_count": 22,
     "metadata": {},
     "output_type": "execute_result"
    }
   ],
   "source": [
    "import pyspark.sql.functions as f\n",
    "df = df.filter((f.col(\"Bonus\") <= 15000) & (f.col(\"Bonus\") >= 300))\n",
    "df = df.filter((f.col(\"BasePay\") <= 200000) & (f.col(\"BasePay\") >= 30000))\n",
    "df.count()\n"
   ]
  },
  {
   "cell_type": "code",
   "execution_count": 23,
   "id": "e77b1d37",
   "metadata": {},
   "outputs": [],
   "source": [
    "from pyspark.ml.feature import StringIndexer\n",
    "job_indexer = StringIndexer(inputCol=\"JobTitle\", outputCol=\"JobIndex\")\n",
    "edu_indexer = StringIndexer(inputCol=\"Education\", outputCol=\"EducationIndex\")\n",
    "dept_indexer = StringIndexer(inputCol=\"Dept\", outputCol=\"DeptIndex\")\n",
    "#below_indexer = StringIndexer(inputCol=\"BelowAvg\", outputCol=\"BelowIndex\")\n",
    "df = job_indexer.fit(df).transform(df)\n",
    "df = edu_indexer.fit(df).transform(df)\n",
    "df = dept_indexer.fit(df).transform(df)\n",
    "#df = below_indexer.fit(df).transform(df)\n",
    "\n",
    "from pyspark.ml.feature import OneHotEncoder\n",
    "ohe = OneHotEncoder(inputCols=[\"JobIndex\", \"EducationIndex\", \"DeptIndex\"], \n",
    "                    outputCols=[\"JobEncoded\", \"EducationEncoded\", \"DeptEncoded\"])\n",
    "df = ohe.fit(df).transform(df)\n",
    "\n",
    "df = df.drop(\"Gender\", \"Education\", \"Dept\", \"BasePay\", \"Bonus\", \"CompanyID\", \"TotalSalary\", \"JobTitle\", \"AvgSalary\", \"EducationIndex\", \"JobIndex\", \"DeptIndex\")\n",
    "df = df.withColumn(\"BelowAvg\",df.BelowAvg.cast('int'))\n",
    "\n",
    "from pyspark.ml.linalg import Vectors \n",
    "from pyspark.ml.feature import VectorAssembler\n",
    "\n",
    "\n",
    "assembler = VectorAssembler(inputCols=['Age','PerfEval','Seniority','JobEncoded','EducationEncoded','DeptEncoded'], outputCol='features')\n",
    "output = assembler.transform(df)\n",
    "final_data = output.select('features','BelowAvg')"
   ]
  },
  {
   "cell_type": "code",
   "execution_count": 25,
   "id": "46e0792d",
   "metadata": {},
   "outputs": [
    {
     "name": "stdout",
     "output_type": "stream",
     "text": [
      "[-0.17418703715248107,-0.2483114398508007,-1.7910540743633994,1.5219083958336905,-0.4535251060704115,0.2560767748860016,0.04887466547857764,0.09203752017508361,-0.2178201990917076,0.5207930826946608,0.5461536044490644,1.405361589869495,1.203705680570424,-0.3201934023531408,0.8064174136074549,0.08589065707889364,-1.0992460046367987,-0.2958402613957552,-0.8287949842573207]\n",
      "The accuracy on the test set is: 0.8277027027027027\n",
      "The accuracy on the training set is: 0.8590116279069767\n"
     ]
    }
   ],
   "source": [
    "from pyspark.ml.classification import LogisticRegression\n",
    "from pyspark.ml.evaluation import MulticlassClassificationEvaluator\n",
    "lr = LogisticRegression(labelCol=\"BelowAvg\",featuresCol='features')\n",
    "model = lr.fit(final_data)\n",
    "print(model.coefficients)\n",
    "\n",
    "train,test = final_data.randomSplit([0.7,0.3])\n",
    "evaluator = MulticlassClassificationEvaluator(labelCol=\"BelowAvg\", predictionCol=\"prediction\", metricName=\"accuracy\")\n",
    "test_pred = model.transform(test)\n",
    "train_pred = model.transform(train)\n",
    "print(f\"The accuracy on the test set is: {evaluator.evaluate(test_pred)}\")\n",
    "print(f\"The accuracy on the training set is: {evaluator.evaluate(train_pred)}\")"
   ]
  },
  {
   "cell_type": "code",
   "execution_count": 26,
   "id": "2d905265",
   "metadata": {},
   "outputs": [
    {
     "name": "stdout",
     "output_type": "stream",
     "text": [
      "Age : -0.17418703715248107\n",
      "PerfEval : -0.2483114398508007\n",
      "Seniority : -1.7910540743633994\n",
      "Dept_Engineering : 1.5219083958336905\n",
      "Dept_Management : -0.4535251060704115\n",
      "Dept_Sales : 0.2560767748860016\n",
      "Education_High School : 0.04887466547857764\n",
      "Education_Masters : 0.09203752017508361\n",
      "Education_PhD : -0.2178201990917076\n",
      "JobTitle_Driver : 0.5207930826946608\n",
      "JobTitle_Financial Analyst : 0.5461536044490644\n",
      "JobTitle_Graphic Designer : 1.405361589869495\n",
      "JobTitle_It : 1.203705680570424\n",
      "JobTitle_Manager : -0.3201934023531408\n",
      "JobTitle_Marketing Asscociate : 0.8064174136074549\n",
      "JobTitle_Sales Associate : 0.08589065707889364\n",
      "JobTitle_Warehouse Associate : -1.0992460046367987\n",
      "JobTitle_Software Engineer : -0.2958402613957552\n"
     ]
    }
   ],
   "source": [
    "names = [\"Age\", \"PerfEval\", \"Seniority\", \"Dept_Engineering\", \"Dept_Management\", \"Dept_Sales\", \"Education_High School\", \"Education_Masters\", \"Education_PhD\", \"JobTitle_Driver\", \"JobTitle_Financial Analyst\", \"JobTitle_Graphic Designer\", \"JobTitle_It\", \"JobTitle_Manager\", \"JobTitle_Marketing Asscociate\", \"JobTitle_Sales Associate\", \"JobTitle_Warehouse Associate\",\"JobTitle_Software Engineer\"]\n",
    "coef = list(model.coefficients)\n",
    "\n",
    "for n,c in zip(names, coef):\n",
    "    print(n,\":\",c)"
   ]
  },
  {
   "cell_type": "code",
   "execution_count": 34,
   "id": "26801ba5",
   "metadata": {},
   "outputs": [],
   "source": [
    "avg_df = spark.read.csv(\"./AvgSalary.csv\", header=True)\n",
    "salary_df = spark.read.csv(\"./Glassdoor Gender Pay Gap.csv\", header=True, inferSchema=True)\n",
    "\n",
    "salary_df = salary_df.na.drop()\n",
    "salary_df = salary_df.withColumn(\"TotalSalary\", salary_df.BasePay + salary_df.Bonus)\n",
    "df = salary_df.join(avg_df, salary_df.JobTitle == avg_df.JobTitle, \"inner\")\n",
    "df = df.withColumn(\"BelowAvg\", df.TotalSalary < df.AvgSalary)\n",
    "\n",
    "df_cols = df.columns\n",
    "# get index of the duplicate columns\n",
    "duplicate_col_index = list(set([df_cols.index(c) for c in df_cols if df_cols.count(c) == 2]))\n",
    "\n",
    "# rename by adding suffix '_duplicated'\n",
    "for i in duplicate_col_index:\n",
    "    df_cols[i] = df_cols[i] + '_duplicated'\n",
    "\n",
    "# rename the column in DF\n",
    "df = df.toDF(*df_cols)\n",
    "\n",
    "# remove flagged columns\n",
    "cols_to_remove = [c for c in df_cols if '_duplicated' in c]\n",
    "df = df.drop(*cols_to_remove)\n",
    "\n",
    "from pyspark.ml.feature import StringIndexer\n",
    "job_indexer = StringIndexer(inputCol=\"JobTitle\", outputCol=\"JobIndex\")\n",
    "edu_indexer = StringIndexer(inputCol=\"Education\", outputCol=\"EducationIndex\")\n",
    "dept_indexer = StringIndexer(inputCol=\"Dept\", outputCol=\"DeptIndex\")\n",
    "#below_indexer = StringIndexer(inputCol=\"BelowAvg\", outputCol=\"BelowIndex\")\n",
    "df = job_indexer.fit(df).transform(df)\n",
    "df = edu_indexer.fit(df).transform(df)\n",
    "df = dept_indexer.fit(df).transform(df)\n",
    "#df = below_indexer.fit(df).transform(df)\n",
    "\n",
    "from pyspark.ml.feature import OneHotEncoder\n",
    "ohe = OneHotEncoder(inputCols=[\"JobIndex\", \"EducationIndex\", \"DeptIndex\"], \n",
    "                    outputCols=[\"JobEncoded\", \"EducationEncoded\", \"DeptEncoded\"])\n",
    "df = ohe.fit(df).transform(df)\n",
    "\n",
    "df = df.drop(\"Gender\", \"Education\", \"Dept\", \"BasePay\", \"Bonus\", \"CompanyID\", \"TotalSalary\", \"JobTitle\", \"AvgSalary\", \"EducationIndex\", \"JobIndex\", \"DeptIndex\")\n",
    "df = df.withColumn(\"BelowAvg\",df.BelowAvg.cast('int'))\n",
    "\n",
    "from pyspark.ml.linalg import Vectors \n",
    "from pyspark.ml.feature import VectorAssembler\n",
    "\n",
    "\n",
    "assembler = VectorAssembler(inputCols=['Age','PerfEval','Seniority','JobEncoded','EducationEncoded','DeptEncoded'], outputCol='features')\n",
    "output = assembler.transform(df)\n",
    "final_data = output.select('features','BelowAvg')\n",
    "from pyspark.ml.feature import MinMaxScaler\n",
    "scaler = MinMaxScaler(inputCol=\"features\", outputCol='ScaledFeatures')\n",
    "scaled_final_data = scaler.fit(final_data).transform(final_data)"
   ]
  },
  {
   "cell_type": "code",
   "execution_count": 38,
   "id": "23bde77a",
   "metadata": {},
   "outputs": [
    {
     "name": "stdout",
     "output_type": "stream",
     "text": [
      "Age : -0.17751162840019033\n",
      "PerfEval : -0.27184385305719483\n",
      "Seniority : -1.8301840705740096\n",
      "Dept_Engineering : 1.537020727967001\n",
      "Dept_Management : 0.19321483319751423\n",
      "Dept_Sales : -0.5093446786848854\n",
      "Education_High School : -0.1774488311750685\n",
      "Education_Masters : -0.29366570145644455\n",
      "Education_PhD : -0.18498759233879372\n",
      "JobTitle_Driver : 0.3099080508006317\n",
      "JobTitle_Financial Analyst : 0.07473101442377882\n",
      "JobTitle_Graphic Designer : 1.3855850226937154\n",
      "JobTitle_It : 1.2938076216934133\n",
      "JobTitle_Manager : -0.2872826858526564\n",
      "JobTitle_Marketing Asscociate : 0.7936543738339673\n",
      "JobTitle_Sales Associate : -0.13651558644263465\n",
      "JobTitle_Warehouse Associate : -1.1697282102055786\n",
      "JobTitle_Software Engineer : -0.4816720054511909\n",
      "The accuracy on the test set is: 0.8243243243243243\n",
      "The accuracy on the training set is: 0.8571428571428571\n"
     ]
    }
   ],
   "source": [
    "from pyspark.ml.classification import LogisticRegression\n",
    "from pyspark.ml.evaluation import MulticlassClassificationEvaluator\n",
    "\n",
    "\n",
    "train,test = scaled_final_data.randomSplit([0.7,0.3])\n",
    "\n",
    "lr = LogisticRegression(labelCol=\"BelowAvg\",featuresCol='features')\n",
    "model = lr.fit(train)\n",
    "names = [\"Age\", \"PerfEval\", \"Seniority\", \"Dept_Engineering\", \"Dept_Management\", \"Dept_Sales\", \"Education_High School\", \"Education_Masters\", \"Education_PhD\", \"JobTitle_Driver\", \"JobTitle_Financial Analyst\", \"JobTitle_Graphic Designer\", \"JobTitle_It\", \"JobTitle_Manager\", \"JobTitle_Marketing Asscociate\", \"JobTitle_Sales Associate\", \"JobTitle_Warehouse Associate\",\"JobTitle_Software Engineer\"]\n",
    "coef = list(model.coefficients)\n",
    "\n",
    "for n,c in zip(names, coef):\n",
    "    print(n,\":\",c)\n",
    "evaluator = MulticlassClassificationEvaluator(labelCol=\"BelowAvg\", predictionCol=\"prediction\", metricName=\"accuracy\")\n",
    "test_pred = model.transform(test)\n",
    "train_pred = model.transform(train)\n",
    "print(f\"The accuracy on the test set is: {evaluator.evaluate(test_pred)}\")\n",
    "print(f\"The accuracy on the training set is: {evaluator.evaluate(train_pred)}\")"
   ]
  },
  {
   "cell_type": "code",
   "execution_count": null,
   "id": "7dd8fe65",
   "metadata": {},
   "outputs": [],
   "source": []
  },
  {
   "cell_type": "code",
   "execution_count": 3,
   "id": "0ef1a666",
   "metadata": {},
   "outputs": [
    {
     "name": "stderr",
     "output_type": "stream",
     "text": [
      "                                                                                \r"
     ]
    },
    {
     "ename": "NameError",
     "evalue": "name 'scaled_final_data' is not defined",
     "output_type": "error",
     "traceback": [
      "\u001b[0;31m---------------------------------------------------------------------------\u001b[0m",
      "\u001b[0;31mNameError\u001b[0m                                 Traceback (most recent call last)",
      "Input \u001b[0;32mIn [3]\u001b[0m, in \u001b[0;36m<cell line: 56>\u001b[0;34m()\u001b[0m\n\u001b[1;32m     51\u001b[0m \u001b[38;5;28;01mfrom\u001b[39;00m \u001b[38;5;21;01mpyspark\u001b[39;00m\u001b[38;5;21;01m.\u001b[39;00m\u001b[38;5;21;01mml\u001b[39;00m\u001b[38;5;21;01m.\u001b[39;00m\u001b[38;5;21;01mevaluation\u001b[39;00m \u001b[38;5;28;01mimport\u001b[39;00m MulticlassClassificationEvaluator\n\u001b[1;32m     54\u001b[0m \u001b[38;5;66;03m#####################################################################\u001b[39;00m\n\u001b[1;32m     55\u001b[0m \u001b[38;5;66;03m# Fitting model #######################################################\u001b[39;00m\n\u001b[0;32m---> 56\u001b[0m train,test \u001b[38;5;241m=\u001b[39m \u001b[43mscaled_final_data\u001b[49m\u001b[38;5;241m.\u001b[39mrandomSplit([\u001b[38;5;241m0.7\u001b[39m,\u001b[38;5;241m0.3\u001b[39m])\n\u001b[1;32m     58\u001b[0m lr \u001b[38;5;241m=\u001b[39m LogisticRegression(labelCol\u001b[38;5;241m=\u001b[39m\u001b[38;5;124m\"\u001b[39m\u001b[38;5;124mBelowAvg\u001b[39m\u001b[38;5;124m\"\u001b[39m,featuresCol\u001b[38;5;241m=\u001b[39m\u001b[38;5;124m'\u001b[39m\u001b[38;5;124mfeatures\u001b[39m\u001b[38;5;124m'\u001b[39m, elasticNetParam \u001b[38;5;241m=\u001b[39m \u001b[38;5;241m1\u001b[39m)\n\u001b[1;32m     59\u001b[0m model \u001b[38;5;241m=\u001b[39m lr\u001b[38;5;241m.\u001b[39mfit(train)\n",
      "\u001b[0;31mNameError\u001b[0m: name 'scaled_final_data' is not defined"
     ]
    }
   ],
   "source": [
    "avg_df = spark.read.csv(\"./AvgSalary.csv\", header=True)\n",
    "salary_df = spark.read.csv(\"./Glassdoor Gender Pay Gap.csv\", header=True, inferSchema=True)\n",
    "\n",
    "salary_df = salary_df.na.drop()\n",
    "salary_df = salary_df.withColumn(\"TotalSalary\", salary_df.BasePay + salary_df.Bonus)\n",
    "df = salary_df.join(avg_df, salary_df.JobTitle == avg_df.JobTitle, \"inner\")\n",
    "df = df.withColumn(\"BelowAvg\", df.TotalSalary < df.AvgSalary)\n",
    "\n",
    "df_cols = df.columns\n",
    "# get index of the duplicate columns\n",
    "duplicate_col_index = list(set([df_cols.index(c) for c in df_cols if df_cols.count(c) == 2]))\n",
    "\n",
    "# rename by adding suffix '_duplicated'\n",
    "for i in duplicate_col_index:\n",
    "    df_cols[i] = df_cols[i] + '_duplicated'\n",
    "\n",
    "# rename the column in DF\n",
    "df = df.toDF(*df_cols)\n",
    "\n",
    "# remove flagged columns\n",
    "cols_to_remove = [c for c in df_cols if '_duplicated' in c]\n",
    "df = df.drop(*cols_to_remove)\n",
    "\n",
    "from pyspark.ml.feature import StringIndexer\n",
    "job_indexer = StringIndexer(inputCol=\"JobTitle\", outputCol=\"JobIndex\")\n",
    "edu_indexer = StringIndexer(inputCol=\"Education\", outputCol=\"EducationIndex\")\n",
    "dept_indexer = StringIndexer(inputCol=\"Dept\", outputCol=\"DeptIndex\")\n",
    "#below_indexer = StringIndexer(inputCol=\"BelowAvg\", outputCol=\"BelowIndex\")\n",
    "df = job_indexer.fit(df).transform(df)\n",
    "df = edu_indexer.fit(df).transform(df)\n",
    "df = dept_indexer.fit(df).transform(df)\n",
    "#df = below_indexer.fit(df).transform(df)\n",
    "\n",
    "from pyspark.ml.feature import OneHotEncoder\n",
    "ohe = OneHotEncoder(inputCols=[\"JobIndex\", \"EducationIndex\", \"DeptIndex\"], \n",
    "                    outputCols=[\"JobEncoded\", \"EducationEncoded\", \"DeptEncoded\"])\n",
    "df = ohe.fit(df).transform(df)\n",
    "\n",
    "df = df.drop(\"Gender\", \"Education\", \"Dept\", \"BasePay\", \"Bonus\", \"CompanyID\", \"TotalSalary\", \"JobTitle\", \"AvgSalary\", \"EducationIndex\", \"JobIndex\", \"DeptIndex\")\n",
    "df = df.withColumn(\"BelowAvg\",df.BelowAvg.cast('int'))\n",
    "\n",
    "from pyspark.ml.linalg import Vectors \n",
    "from pyspark.ml.feature import VectorAssembler\n",
    "\n",
    "\n",
    "assembler = VectorAssembler(inputCols=['Age','PerfEval','Seniority','JobEncoded','EducationEncoded','DeptEncoded'], outputCol='features')\n",
    "output = assembler.transform(df)\n",
    "final_data = output.select('features','BelowAvg')\n",
    "\n",
    "from pyspark.ml.classification import LogisticRegression\n",
    "from pyspark.ml.evaluation import MulticlassClassificationEvaluator\n",
    "\n",
    "\n",
    "#####################################################################\n",
    "# Fitting model #######################################################\n",
    "train,test = scaled_final_data.randomSplit([0.7,0.3])\n",
    "\n",
    "lr = LogisticRegression(labelCol=\"BelowAvg\",featuresCol='features', elasticNetParam = 1)\n",
    "model = lr.fit(train)\n",
    "names = [\"Age\", \"PerfEval\", \"Seniority\", \"Dept_Engineering\", \"Dept_Management\", \"Dept_Sales\", \"Education_High School\", \"Education_Masters\", \"Education_PhD\", \"JobTitle_Driver\", \"JobTitle_Financial Analyst\", \"JobTitle_Graphic Designer\", \"JobTitle_It\", \"JobTitle_Manager\", \"JobTitle_Marketing Asscociate\", \"JobTitle_Sales Associate\", \"JobTitle_Warehouse Associate\",\"JobTitle_Software Engineer\"]\n",
    "coef = list(model.coefficients)\n",
    "\n",
    "for n,c in zip(names, coef):\n",
    "    print(n,\":\",c)\n",
    "evaluator = MulticlassClassificationEvaluator(labelCol=\"BelowAvg\", predictionCol=\"prediction\", metricName=\"accuracy\")\n",
    "test_pred = model.transform(test)\n",
    "train_pred = model.transform(train)\n",
    "print(f\"The accuracy on the test set is: {evaluator.evaluate(test_pred)}\")\n",
    "print(f\"The accuracy on the training set is: {evaluator.evaluate(train_pred)}\")"
   ]
  },
  {
   "cell_type": "code",
   "execution_count": 4,
   "id": "55c26679",
   "metadata": {},
   "outputs": [
    {
     "name": "stdout",
     "output_type": "stream",
     "text": [
      "Age : -0.1867751759489874\n",
      "PerfEval : -0.21324745491626054\n",
      "Seniority : -1.9171897773347268\n",
      "Dept_Engineering : 1.6520902597095273\n",
      "Dept_Management : 0.9590646461300305\n",
      "Dept_Sales : 0.20493656336582022\n",
      "Education_High School : 0.2099354423040738\n",
      "Education_Masters : 0.3875036188793343\n",
      "Education_PhD : -0.574548347325251\n",
      "JobTitle_Driver : 1.401414843169298\n",
      "JobTitle_Financial Analyst : 0.9895268399670551\n",
      "JobTitle_Graphic Designer : 1.8651801124899978\n",
      "JobTitle_It : 1.4038922866711758\n",
      "JobTitle_Manager : -0.5266006622121671\n",
      "JobTitle_Marketing Asscociate : 0.6419991938704519\n",
      "JobTitle_Sales Associate : -0.263252152691717\n",
      "JobTitle_Warehouse Associate : -1.3502737205885702\n",
      "JobTitle_Software Engineer : -0.41435991111020803\n",
      "The accuracy on the test set is: 0.822289156626506\n",
      "The accuracy on the training set is: 0.867579908675799\n"
     ]
    }
   ],
   "source": [
    "train,test = final_data.randomSplit([0.7,0.3])\n",
    "\n",
    "lr = LogisticRegression(labelCol=\"BelowAvg\",featuresCol='features', elasticNetParam = 1)\n",
    "model = lr.fit(train)\n",
    "names = [\"Age\", \"PerfEval\", \"Seniority\", \"Dept_Engineering\", \"Dept_Management\", \"Dept_Sales\", \"Education_High School\", \"Education_Masters\", \"Education_PhD\", \"JobTitle_Driver\", \"JobTitle_Financial Analyst\", \"JobTitle_Graphic Designer\", \"JobTitle_It\", \"JobTitle_Manager\", \"JobTitle_Marketing Asscociate\", \"JobTitle_Sales Associate\", \"JobTitle_Warehouse Associate\",\"JobTitle_Software Engineer\"]\n",
    "coef = list(model.coefficients)\n",
    "\n",
    "for n,c in zip(names, coef):\n",
    "    print(n,\":\",c)\n",
    "evaluator = MulticlassClassificationEvaluator(labelCol=\"BelowAvg\", predictionCol=\"prediction\", metricName=\"accuracy\")\n",
    "test_pred = model.transform(test)\n",
    "train_pred = model.transform(train)\n",
    "print(f\"The accuracy on the test set is: {evaluator.evaluate(test_pred)}\")\n",
    "print(f\"The accuracy on the training set is: {evaluator.evaluate(train_pred)}\")"
   ]
  },
  {
   "cell_type": "code",
   "execution_count": null,
   "id": "25156d5a",
   "metadata": {},
   "outputs": [],
   "source": []
  }
 ],
 "metadata": {
  "kernelspec": {
   "display_name": "Python 3 (ipykernel)",
   "language": "python",
   "name": "python3"
  },
  "language_info": {
   "codemirror_mode": {
    "name": "ipython",
    "version": 3
   },
   "file_extension": ".py",
   "mimetype": "text/x-python",
   "name": "python",
   "nbconvert_exporter": "python",
   "pygments_lexer": "ipython3",
   "version": "3.10.4"
  }
 },
 "nbformat": 4,
 "nbformat_minor": 5
}
