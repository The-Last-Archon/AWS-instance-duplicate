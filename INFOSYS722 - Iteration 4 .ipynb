{
 "cells": [
  {
   "cell_type": "code",
   "execution_count": 1,
   "id": "b48fb972",
   "metadata": {},
   "outputs": [
    {
     "name": "stderr",
     "output_type": "stream",
     "text": [
      "WARNING: An illegal reflective access operation has occurred\n",
      "WARNING: Illegal reflective access by org.apache.spark.unsafe.Platform (file:/home/ubuntu/spark-3.2.1-bin-hadoop2.7/jars/spark-unsafe_2.12-3.2.1.jar) to constructor java.nio.DirectByteBuffer(long,int)\n",
      "WARNING: Please consider reporting this to the maintainers of org.apache.spark.unsafe.Platform\n",
      "WARNING: Use --illegal-access=warn to enable warnings of further illegal reflective access operations\n",
      "WARNING: All illegal access operations will be denied in a future release\n",
      "Using Spark's default log4j profile: org/apache/spark/log4j-defaults.properties\n",
      "Setting default log level to \"WARN\".\n",
      "To adjust logging level use sc.setLogLevel(newLevel). For SparkR, use setLogLevel(newLevel).\n",
      "22/10/13 05:13:14 WARN NativeCodeLoader: Unable to load native-hadoop library for your platform... using builtin-java classes where applicable\n"
     ]
    }
   ],
   "source": [
    "import findspark\n",
    "findspark.init('/home/ubuntu/spark-3.2.1-bin-hadoop2.7')\n",
    "import pyspark\n",
    "from pyspark.sql import SparkSession\n",
    "spark = SparkSession.builder.appName('not basics').getOrCreate()\n",
    "\n",
    "avg_df = spark.read.csv(\"./AvgSalary.csv\", header=True)\n",
    "salary_df = spark.read.csv(\"./Glassdoor Gender Pay Gap.csv\", header=True, inferSchema=True)"
   ]
  },
  {
   "cell_type": "code",
   "execution_count": 3,
   "id": "74e6283e",
   "metadata": {},
   "outputs": [
    {
     "data": {
      "text/html": [
       "<style>.container { width:100% !important; }</style>"
      ],
      "text/plain": [
       "<IPython.core.display.HTML object>"
      ]
     },
     "metadata": {},
     "output_type": "display_data"
    }
   ],
   "source": [
    "from IPython.display import display, HTML\n",
    "display(HTML(\"<style>.container { width:100% !important; }</style>\"))"
   ]
  },
  {
   "cell_type": "code",
   "execution_count": 4,
   "id": "d9036cda",
   "metadata": {},
   "outputs": [
    {
     "name": "stderr",
     "output_type": "stream",
     "text": [
      "\r",
      "[Stage 3:>                                                          (0 + 1) / 1]\r"
     ]
    },
    {
     "name": "stdout",
     "output_type": "stream",
     "text": [
      "+-------+-------------------+------+------------------+------------------+---------+--------------+------------------+-----------------+------------------+------------------+\n",
      "|summary|           JobTitle|Gender|               Age|          PerfEval|Education|          Dept|         Seniority|          BasePay|             Bonus|         CompanyID|\n",
      "+-------+-------------------+------+------------------+------------------+---------+--------------+------------------+-----------------+------------------+------------------+\n",
      "|  count|               1000|  1000|              1000|              1000|      989|           999|              1000|             1000|              1000|              1000|\n",
      "|   mean|               null|  null|            41.393|             3.037|     null|          null|             2.971|        93994.653|          6506.161|           688.204|\n",
      "| stddev|               null|  null|14.294855504477594|1.4239587980902595|     null|          null|1.3950287112117459|25530.79670901769|2479.4433190236978|374.39559618997464|\n",
      "|    min|     Data Scientist|Female|                18|                 1|  College|Administration|                 1|            34208|               149|                 4|\n",
      "|    25%|               null|  null|                29|                 2|     null|          null|                 2|            76654|              4845|               385|\n",
      "|    50%|               null|  null|                41|                 3|     null|          null|                 3|            93073|              6508|               701|\n",
      "|    75%|               null|  null|                54|                 4|     null|          null|                 4|           110078|              8035|              1006|\n",
      "|    max|Warehouse Associate|  Male|                65|                 5|      PhD|         Sales|                 5|           242105|             50000|              1314|\n",
      "+-------+-------------------+------+------------------+------------------+---------+--------------+------------------+-----------------+------------------+------------------+\n",
      "\n"
     ]
    },
    {
     "name": "stderr",
     "output_type": "stream",
     "text": [
      "\r",
      "                                                                                \r"
     ]
    }
   ],
   "source": [
    "salary_df.summary().show()"
   ]
  },
  {
   "cell_type": "code",
   "execution_count": 1,
   "id": "91a3a973",
   "metadata": {},
   "outputs": [
    {
     "ename": "NameError",
     "evalue": "name 'salary_df' is not defined",
     "output_type": "error",
     "traceback": [
      "\u001b[0;31m---------------------------------------------------------------------------\u001b[0m",
      "\u001b[0;31mNameError\u001b[0m                                 Traceback (most recent call last)",
      "Input \u001b[0;32mIn [1]\u001b[0m, in \u001b[0;36m<cell line: 1>\u001b[0;34m()\u001b[0m\n\u001b[0;32m----> 1\u001b[0m \u001b[43msalary_df\u001b[49m\u001b[38;5;241m.\u001b[39mshow()\n",
      "\u001b[0;31mNameError\u001b[0m: name 'salary_df' is not defined"
     ]
    }
   ],
   "source": [
    "salary_df.show()"
   ]
  },
  {
   "cell_type": "code",
   "execution_count": 6,
   "id": "30105df2",
   "metadata": {},
   "outputs": [
    {
     "name": "stdout",
     "output_type": "stream",
     "text": [
      "+--------+------+---+--------+---------+----+---------+-------+-----+---------+\n",
      "|JobTitle|Gender|Age|PerfEval|Education|Dept|Seniority|BasePay|Bonus|CompanyID|\n",
      "+--------+------+---+--------+---------+----+---------+-------+-----+---------+\n",
      "|       0|     0|  0|       0|       11|   1|        0|      0|    0|        0|\n",
      "+--------+------+---+--------+---------+----+---------+-------+-----+---------+\n",
      "\n"
     ]
    }
   ],
   "source": [
    "from pyspark.sql import functions as F\n",
    "df_agg = salary_df.agg(*(F.count(F.when(F.isnull(c),c)).alias(c) for c in salary_df.columns))\n",
    "\n",
    "df_agg.show()"
   ]
  },
  {
   "cell_type": "code",
   "execution_count": 12,
   "id": "53f5b578",
   "metadata": {},
   "outputs": [
    {
     "name": "stdout",
     "output_type": "stream",
     "text": [
      "+-------+-----------------+------------------+\n",
      "|summary|          BasePay|             Bonus|\n",
      "+-------+-----------------+------------------+\n",
      "|  count|             1000|              1000|\n",
      "|   mean|        93994.653|          6506.161|\n",
      "| stddev|25530.79670901769|2479.4433190236978|\n",
      "|    min|            34208|               149|\n",
      "|    max|           242105|             50000|\n",
      "+-------+-----------------+------------------+\n",
      "\n"
     ]
    }
   ],
   "source": [
    "salary_df.describe(['BasePay', 'Bonus']).show()"
   ]
  },
  {
   "cell_type": "code",
   "execution_count": 15,
   "id": "f6d0eee1",
   "metadata": {},
   "outputs": [
    {
     "name": "stdout",
     "output_type": "stream",
     "text": [
      "+-------------------+------+---+--------+-----------+--------------+---------+-------+-----+---------+\n",
      "|           JobTitle|Gender|Age|PerfEval|  Education|          Dept|Seniority|BasePay|Bonus|CompanyID|\n",
      "+-------------------+------+---+--------+-----------+--------------+---------+-------+-----+---------+\n",
      "|            Manager|Female| 60|       4|        PhD|    Management|        3| 140614| 8354|      812|\n",
      "|            Manager|Female| 62|       4|    Masters|         Sales|        4| 125203| 7808|        5|\n",
      "|            Manager|Female| 45|       1|High School|   Engineering|        5| 129893| 5120|     1003|\n",
      "|  Financial Analyst|Female| 47|       5|High School|         Sales|        5| 126190| 8961|      417|\n",
      "|            Manager|Female| 62|       4|    Masters|Administration|        3| 106008| 6235|      884|\n",
      "|            Manager|Female| 57|       1|    Masters|    Operations|        3| 145095| 3889|      590|\n",
      "|            Manager|Female| 45|       2|High School|    Management|        5| 104146| 6340|      624|\n",
      "|    Sales Associate|Female| 65|       2|        PhD|         Sales|        5| 122505| 4214|      606|\n",
      "|     Data Scientist|Female| 58|       1|High School|         Sales|        5| 101005| 3384|      680|\n",
      "|     Data Scientist|Female| 51|       1|        PhD|         Sales|        5| 119141| 4969|      930|\n",
      "|  Financial Analyst|Female| 61|       1|    Masters|   Engineering|        4| 119042| 2982|      792|\n",
      "|     Data Scientist|Female| 55|       2|    Masters|         Sales|        5| 118365| 5359|      689|\n",
      "|            Manager|Female| 59|       2|High School|    Management|        2| 116215| 3603|      829|\n",
      "|            Manager|Female| 55|       1|High School|Administration|        3| 115638| 2824|     1279|\n",
      "|Warehouse Associate|Female| 58|       1|    Masters|    Management|        4| 134109| 4184|     1086|\n",
      "|   Graphic Designer|Female| 57|       2|    Masters|         Sales|        5| 133741| 4925|      833|\n",
      "|     Data Scientist|Female| 53|       5|    Masters|   Engineering|        5| 103495| 8552|      489|\n",
      "|                 IT|Female| 44|       2|        PhD|    Operations|        5| 102267| 5679|     1139|\n",
      "|    Sales Associate|Female| 61|       3|        PhD|    Management|        4| 131608| 6537|      815|\n",
      "|                 IT|Female| 44|       1|High School|         Sales|        5| 101411| 3084|     1247|\n",
      "+-------------------+------+---+--------+-----------+--------------+---------+-------+-----+---------+\n",
      "only showing top 20 rows\n",
      "\n"
     ]
    }
   ],
   "source": [
    "salary_df.filter(\"Gender=='Female'\").show()"
   ]
  },
  {
   "cell_type": "code",
   "execution_count": 2,
   "id": "4e661d68",
   "metadata": {},
   "outputs": [],
   "source": [
    "salary_df = salary_df.na.drop()\n",
    "salary_df = salary_df.withColumn(\"TotalSalary\", salary_df.BasePay + salary_df.Bonus)\n",
    "df = salary_df.join(avg_df, salary_df.JobTitle == avg_df.JobTitle, \"inner\")\n",
    "df = df.withColumn(\"BelowAvg\", df.TotalSalary < df.AvgSalary)\n",
    "\n",
    "df_cols = df.columns\n",
    "# get index of the duplicate columns\n",
    "duplicate_col_index = list(set([df_cols.index(c) for c in df_cols if df_cols.count(c) == 2]))\n",
    "\n",
    "# rename by adding suffix '_duplicated'\n",
    "for i in duplicate_col_index:\n",
    "    df_cols[i] = df_cols[i] + '_duplicated'\n",
    "\n",
    "# rename the column in DF\n",
    "df = df.toDF(*df_cols)\n",
    "\n",
    "# remove flagged columns\n",
    "cols_to_remove = [c for c in df_cols if '_duplicated' in c]\n",
    "df = df.drop(*cols_to_remove)"
   ]
  },
  {
   "cell_type": "code",
   "execution_count": 7,
   "id": "d5a8d6b0",
   "metadata": {},
   "outputs": [
    {
     "name": "stdout",
     "output_type": "stream",
     "text": [
      "root\n",
      " |-- Age: integer (nullable = true)\n",
      " |-- PerfEval: integer (nullable = true)\n",
      " |-- Seniority: integer (nullable = true)\n",
      " |-- BelowAvg: boolean (nullable = true)\n",
      " |-- JobEncoded: vector (nullable = true)\n",
      " |-- EducationEncoded: vector (nullable = true)\n",
      " |-- DeptEncoded: vector (nullable = true)\n",
      "\n"
     ]
    }
   ],
   "source": [
    "df.printSchema()"
   ]
  },
  {
   "cell_type": "code",
   "execution_count": 12,
   "id": "6ce81d82",
   "metadata": {
    "scrolled": true
   },
   "outputs": [
    {
     "ename": "Py4JJavaError",
     "evalue": "An error occurred while calling o417.fit.\n: org.apache.spark.SparkException: Input column JobTitle does not exist.\n\tat org.apache.spark.ml.feature.StringIndexerBase.$anonfun$validateAndTransformSchema$2(StringIndexer.scala:128)\n\tat scala.collection.TraversableLike.$anonfun$flatMap$1(TraversableLike.scala:293)\n\tat scala.collection.IndexedSeqOptimized.foreach(IndexedSeqOptimized.scala:36)\n\tat scala.collection.IndexedSeqOptimized.foreach$(IndexedSeqOptimized.scala:33)\n\tat scala.collection.mutable.ArrayOps$ofRef.foreach(ArrayOps.scala:198)\n\tat scala.collection.TraversableLike.flatMap(TraversableLike.scala:293)\n\tat scala.collection.TraversableLike.flatMap$(TraversableLike.scala:290)\n\tat scala.collection.mutable.ArrayOps$ofRef.flatMap(ArrayOps.scala:198)\n\tat org.apache.spark.ml.feature.StringIndexerBase.validateAndTransformSchema(StringIndexer.scala:123)\n\tat org.apache.spark.ml.feature.StringIndexerBase.validateAndTransformSchema$(StringIndexer.scala:115)\n\tat org.apache.spark.ml.feature.StringIndexer.validateAndTransformSchema(StringIndexer.scala:145)\n\tat org.apache.spark.ml.feature.StringIndexer.transformSchema(StringIndexer.scala:252)\n\tat org.apache.spark.ml.PipelineStage.transformSchema(Pipeline.scala:71)\n\tat org.apache.spark.ml.feature.StringIndexer.fit(StringIndexer.scala:237)\n\tat org.apache.spark.ml.feature.StringIndexer.fit(StringIndexer.scala:145)\n\tat java.base/jdk.internal.reflect.NativeMethodAccessorImpl.invoke0(Native Method)\n\tat java.base/jdk.internal.reflect.NativeMethodAccessorImpl.invoke(NativeMethodAccessorImpl.java:62)\n\tat java.base/jdk.internal.reflect.DelegatingMethodAccessorImpl.invoke(DelegatingMethodAccessorImpl.java:43)\n\tat java.base/java.lang.reflect.Method.invoke(Method.java:566)\n\tat py4j.reflection.MethodInvoker.invoke(MethodInvoker.java:244)\n\tat py4j.reflection.ReflectionEngine.invoke(ReflectionEngine.java:357)\n\tat py4j.Gateway.invoke(Gateway.java:282)\n\tat py4j.commands.AbstractCommand.invokeMethod(AbstractCommand.java:132)\n\tat py4j.commands.CallCommand.execute(CallCommand.java:79)\n\tat py4j.ClientServerConnection.waitForCommands(ClientServerConnection.java:182)\n\tat py4j.ClientServerConnection.run(ClientServerConnection.java:106)\n\tat java.base/java.lang.Thread.run(Thread.java:829)\n",
     "output_type": "error",
     "traceback": [
      "\u001b[0;31m---------------------------------------------------------------------------\u001b[0m",
      "\u001b[0;31mPy4JJavaError\u001b[0m                             Traceback (most recent call last)",
      "Input \u001b[0;32mIn [12]\u001b[0m, in \u001b[0;36m<cell line: 6>\u001b[0;34m()\u001b[0m\n\u001b[1;32m      4\u001b[0m dept_indexer \u001b[38;5;241m=\u001b[39m StringIndexer(inputCol\u001b[38;5;241m=\u001b[39m\u001b[38;5;124m\"\u001b[39m\u001b[38;5;124mDept\u001b[39m\u001b[38;5;124m\"\u001b[39m, outputCol\u001b[38;5;241m=\u001b[39m\u001b[38;5;124m\"\u001b[39m\u001b[38;5;124mDeptIndex\u001b[39m\u001b[38;5;124m\"\u001b[39m)\n\u001b[1;32m      5\u001b[0m \u001b[38;5;66;03m#below_indexer = StringIndexer(inputCol=\"BelowAvg\", outputCol=\"BelowIndex\")\u001b[39;00m\n\u001b[0;32m----> 6\u001b[0m df \u001b[38;5;241m=\u001b[39m \u001b[43mjob_indexer\u001b[49m\u001b[38;5;241;43m.\u001b[39;49m\u001b[43mfit\u001b[49m\u001b[43m(\u001b[49m\u001b[43mdf\u001b[49m\u001b[43m)\u001b[49m\u001b[38;5;241m.\u001b[39mtransform(df)\n\u001b[1;32m      7\u001b[0m df \u001b[38;5;241m=\u001b[39m edu_indexer\u001b[38;5;241m.\u001b[39mfit(df)\u001b[38;5;241m.\u001b[39mtransform(df)\n\u001b[1;32m      8\u001b[0m df \u001b[38;5;241m=\u001b[39m dept_indexer\u001b[38;5;241m.\u001b[39mfit(df)\u001b[38;5;241m.\u001b[39mtransform(df)\n",
      "File \u001b[0;32m~/spark-3.2.1-bin-hadoop2.7/python/pyspark/ml/base.py:161\u001b[0m, in \u001b[0;36mEstimator.fit\u001b[0;34m(self, dataset, params)\u001b[0m\n\u001b[1;32m    159\u001b[0m         \u001b[38;5;28;01mreturn\u001b[39;00m \u001b[38;5;28mself\u001b[39m\u001b[38;5;241m.\u001b[39mcopy(params)\u001b[38;5;241m.\u001b[39m_fit(dataset)\n\u001b[1;32m    160\u001b[0m     \u001b[38;5;28;01melse\u001b[39;00m:\n\u001b[0;32m--> 161\u001b[0m         \u001b[38;5;28;01mreturn\u001b[39;00m \u001b[38;5;28;43mself\u001b[39;49m\u001b[38;5;241;43m.\u001b[39;49m\u001b[43m_fit\u001b[49m\u001b[43m(\u001b[49m\u001b[43mdataset\u001b[49m\u001b[43m)\u001b[49m\n\u001b[1;32m    162\u001b[0m \u001b[38;5;28;01melse\u001b[39;00m:\n\u001b[1;32m    163\u001b[0m     \u001b[38;5;28;01mraise\u001b[39;00m \u001b[38;5;167;01mTypeError\u001b[39;00m(\u001b[38;5;124m\"\u001b[39m\u001b[38;5;124mParams must be either a param map or a list/tuple of param maps, \u001b[39m\u001b[38;5;124m\"\u001b[39m\n\u001b[1;32m    164\u001b[0m                     \u001b[38;5;124m\"\u001b[39m\u001b[38;5;124mbut got \u001b[39m\u001b[38;5;132;01m%s\u001b[39;00m\u001b[38;5;124m.\u001b[39m\u001b[38;5;124m\"\u001b[39m \u001b[38;5;241m%\u001b[39m \u001b[38;5;28mtype\u001b[39m(params))\n",
      "File \u001b[0;32m~/spark-3.2.1-bin-hadoop2.7/python/pyspark/ml/wrapper.py:335\u001b[0m, in \u001b[0;36mJavaEstimator._fit\u001b[0;34m(self, dataset)\u001b[0m\n\u001b[1;32m    334\u001b[0m \u001b[38;5;28;01mdef\u001b[39;00m \u001b[38;5;21m_fit\u001b[39m(\u001b[38;5;28mself\u001b[39m, dataset):\n\u001b[0;32m--> 335\u001b[0m     java_model \u001b[38;5;241m=\u001b[39m \u001b[38;5;28;43mself\u001b[39;49m\u001b[38;5;241;43m.\u001b[39;49m\u001b[43m_fit_java\u001b[49m\u001b[43m(\u001b[49m\u001b[43mdataset\u001b[49m\u001b[43m)\u001b[49m\n\u001b[1;32m    336\u001b[0m     model \u001b[38;5;241m=\u001b[39m \u001b[38;5;28mself\u001b[39m\u001b[38;5;241m.\u001b[39m_create_model(java_model)\n\u001b[1;32m    337\u001b[0m     \u001b[38;5;28;01mreturn\u001b[39;00m \u001b[38;5;28mself\u001b[39m\u001b[38;5;241m.\u001b[39m_copyValues(model)\n",
      "File \u001b[0;32m~/spark-3.2.1-bin-hadoop2.7/python/pyspark/ml/wrapper.py:332\u001b[0m, in \u001b[0;36mJavaEstimator._fit_java\u001b[0;34m(self, dataset)\u001b[0m\n\u001b[1;32m    318\u001b[0m \u001b[38;5;124;03m\"\"\"\u001b[39;00m\n\u001b[1;32m    319\u001b[0m \u001b[38;5;124;03mFits a Java model to the input dataset.\u001b[39;00m\n\u001b[1;32m    320\u001b[0m \n\u001b[0;32m   (...)\u001b[0m\n\u001b[1;32m    329\u001b[0m \u001b[38;5;124;03m    fitted Java model\u001b[39;00m\n\u001b[1;32m    330\u001b[0m \u001b[38;5;124;03m\"\"\"\u001b[39;00m\n\u001b[1;32m    331\u001b[0m \u001b[38;5;28mself\u001b[39m\u001b[38;5;241m.\u001b[39m_transfer_params_to_java()\n\u001b[0;32m--> 332\u001b[0m \u001b[38;5;28;01mreturn\u001b[39;00m \u001b[38;5;28;43mself\u001b[39;49m\u001b[38;5;241;43m.\u001b[39;49m\u001b[43m_java_obj\u001b[49m\u001b[38;5;241;43m.\u001b[39;49m\u001b[43mfit\u001b[49m\u001b[43m(\u001b[49m\u001b[43mdataset\u001b[49m\u001b[38;5;241;43m.\u001b[39;49m\u001b[43m_jdf\u001b[49m\u001b[43m)\u001b[49m\n",
      "File \u001b[0;32m~/spark-3.2.1-bin-hadoop2.7/python/lib/py4j-0.10.9.3-src.zip/py4j/java_gateway.py:1321\u001b[0m, in \u001b[0;36mJavaMember.__call__\u001b[0;34m(self, *args)\u001b[0m\n\u001b[1;32m   1315\u001b[0m command \u001b[38;5;241m=\u001b[39m proto\u001b[38;5;241m.\u001b[39mCALL_COMMAND_NAME \u001b[38;5;241m+\u001b[39m\\\n\u001b[1;32m   1316\u001b[0m     \u001b[38;5;28mself\u001b[39m\u001b[38;5;241m.\u001b[39mcommand_header \u001b[38;5;241m+\u001b[39m\\\n\u001b[1;32m   1317\u001b[0m     args_command \u001b[38;5;241m+\u001b[39m\\\n\u001b[1;32m   1318\u001b[0m     proto\u001b[38;5;241m.\u001b[39mEND_COMMAND_PART\n\u001b[1;32m   1320\u001b[0m answer \u001b[38;5;241m=\u001b[39m \u001b[38;5;28mself\u001b[39m\u001b[38;5;241m.\u001b[39mgateway_client\u001b[38;5;241m.\u001b[39msend_command(command)\n\u001b[0;32m-> 1321\u001b[0m return_value \u001b[38;5;241m=\u001b[39m \u001b[43mget_return_value\u001b[49m\u001b[43m(\u001b[49m\n\u001b[1;32m   1322\u001b[0m \u001b[43m    \u001b[49m\u001b[43manswer\u001b[49m\u001b[43m,\u001b[49m\u001b[43m \u001b[49m\u001b[38;5;28;43mself\u001b[39;49m\u001b[38;5;241;43m.\u001b[39;49m\u001b[43mgateway_client\u001b[49m\u001b[43m,\u001b[49m\u001b[43m \u001b[49m\u001b[38;5;28;43mself\u001b[39;49m\u001b[38;5;241;43m.\u001b[39;49m\u001b[43mtarget_id\u001b[49m\u001b[43m,\u001b[49m\u001b[43m \u001b[49m\u001b[38;5;28;43mself\u001b[39;49m\u001b[38;5;241;43m.\u001b[39;49m\u001b[43mname\u001b[49m\u001b[43m)\u001b[49m\n\u001b[1;32m   1324\u001b[0m \u001b[38;5;28;01mfor\u001b[39;00m temp_arg \u001b[38;5;129;01min\u001b[39;00m temp_args:\n\u001b[1;32m   1325\u001b[0m     temp_arg\u001b[38;5;241m.\u001b[39m_detach()\n",
      "File \u001b[0;32m~/spark-3.2.1-bin-hadoop2.7/python/pyspark/sql/utils.py:111\u001b[0m, in \u001b[0;36mcapture_sql_exception.<locals>.deco\u001b[0;34m(*a, **kw)\u001b[0m\n\u001b[1;32m    109\u001b[0m \u001b[38;5;28;01mdef\u001b[39;00m \u001b[38;5;21mdeco\u001b[39m(\u001b[38;5;241m*\u001b[39ma, \u001b[38;5;241m*\u001b[39m\u001b[38;5;241m*\u001b[39mkw):\n\u001b[1;32m    110\u001b[0m     \u001b[38;5;28;01mtry\u001b[39;00m:\n\u001b[0;32m--> 111\u001b[0m         \u001b[38;5;28;01mreturn\u001b[39;00m \u001b[43mf\u001b[49m\u001b[43m(\u001b[49m\u001b[38;5;241;43m*\u001b[39;49m\u001b[43ma\u001b[49m\u001b[43m,\u001b[49m\u001b[43m \u001b[49m\u001b[38;5;241;43m*\u001b[39;49m\u001b[38;5;241;43m*\u001b[39;49m\u001b[43mkw\u001b[49m\u001b[43m)\u001b[49m\n\u001b[1;32m    112\u001b[0m     \u001b[38;5;28;01mexcept\u001b[39;00m py4j\u001b[38;5;241m.\u001b[39mprotocol\u001b[38;5;241m.\u001b[39mPy4JJavaError \u001b[38;5;28;01mas\u001b[39;00m e:\n\u001b[1;32m    113\u001b[0m         converted \u001b[38;5;241m=\u001b[39m convert_exception(e\u001b[38;5;241m.\u001b[39mjava_exception)\n",
      "File \u001b[0;32m~/spark-3.2.1-bin-hadoop2.7/python/lib/py4j-0.10.9.3-src.zip/py4j/protocol.py:326\u001b[0m, in \u001b[0;36mget_return_value\u001b[0;34m(answer, gateway_client, target_id, name)\u001b[0m\n\u001b[1;32m    324\u001b[0m value \u001b[38;5;241m=\u001b[39m OUTPUT_CONVERTER[\u001b[38;5;28mtype\u001b[39m](answer[\u001b[38;5;241m2\u001b[39m:], gateway_client)\n\u001b[1;32m    325\u001b[0m \u001b[38;5;28;01mif\u001b[39;00m answer[\u001b[38;5;241m1\u001b[39m] \u001b[38;5;241m==\u001b[39m REFERENCE_TYPE:\n\u001b[0;32m--> 326\u001b[0m     \u001b[38;5;28;01mraise\u001b[39;00m Py4JJavaError(\n\u001b[1;32m    327\u001b[0m         \u001b[38;5;124m\"\u001b[39m\u001b[38;5;124mAn error occurred while calling \u001b[39m\u001b[38;5;132;01m{0}\u001b[39;00m\u001b[38;5;132;01m{1}\u001b[39;00m\u001b[38;5;132;01m{2}\u001b[39;00m\u001b[38;5;124m.\u001b[39m\u001b[38;5;130;01m\\n\u001b[39;00m\u001b[38;5;124m\"\u001b[39m\u001b[38;5;241m.\u001b[39m\n\u001b[1;32m    328\u001b[0m         \u001b[38;5;28mformat\u001b[39m(target_id, \u001b[38;5;124m\"\u001b[39m\u001b[38;5;124m.\u001b[39m\u001b[38;5;124m\"\u001b[39m, name), value)\n\u001b[1;32m    329\u001b[0m \u001b[38;5;28;01melse\u001b[39;00m:\n\u001b[1;32m    330\u001b[0m     \u001b[38;5;28;01mraise\u001b[39;00m Py4JError(\n\u001b[1;32m    331\u001b[0m         \u001b[38;5;124m\"\u001b[39m\u001b[38;5;124mAn error occurred while calling \u001b[39m\u001b[38;5;132;01m{0}\u001b[39;00m\u001b[38;5;132;01m{1}\u001b[39;00m\u001b[38;5;132;01m{2}\u001b[39;00m\u001b[38;5;124m. Trace:\u001b[39m\u001b[38;5;130;01m\\n\u001b[39;00m\u001b[38;5;132;01m{3}\u001b[39;00m\u001b[38;5;130;01m\\n\u001b[39;00m\u001b[38;5;124m\"\u001b[39m\u001b[38;5;241m.\u001b[39m\n\u001b[1;32m    332\u001b[0m         \u001b[38;5;28mformat\u001b[39m(target_id, \u001b[38;5;124m\"\u001b[39m\u001b[38;5;124m.\u001b[39m\u001b[38;5;124m\"\u001b[39m, name, value))\n",
      "\u001b[0;31mPy4JJavaError\u001b[0m: An error occurred while calling o417.fit.\n: org.apache.spark.SparkException: Input column JobTitle does not exist.\n\tat org.apache.spark.ml.feature.StringIndexerBase.$anonfun$validateAndTransformSchema$2(StringIndexer.scala:128)\n\tat scala.collection.TraversableLike.$anonfun$flatMap$1(TraversableLike.scala:293)\n\tat scala.collection.IndexedSeqOptimized.foreach(IndexedSeqOptimized.scala:36)\n\tat scala.collection.IndexedSeqOptimized.foreach$(IndexedSeqOptimized.scala:33)\n\tat scala.collection.mutable.ArrayOps$ofRef.foreach(ArrayOps.scala:198)\n\tat scala.collection.TraversableLike.flatMap(TraversableLike.scala:293)\n\tat scala.collection.TraversableLike.flatMap$(TraversableLike.scala:290)\n\tat scala.collection.mutable.ArrayOps$ofRef.flatMap(ArrayOps.scala:198)\n\tat org.apache.spark.ml.feature.StringIndexerBase.validateAndTransformSchema(StringIndexer.scala:123)\n\tat org.apache.spark.ml.feature.StringIndexerBase.validateAndTransformSchema$(StringIndexer.scala:115)\n\tat org.apache.spark.ml.feature.StringIndexer.validateAndTransformSchema(StringIndexer.scala:145)\n\tat org.apache.spark.ml.feature.StringIndexer.transformSchema(StringIndexer.scala:252)\n\tat org.apache.spark.ml.PipelineStage.transformSchema(Pipeline.scala:71)\n\tat org.apache.spark.ml.feature.StringIndexer.fit(StringIndexer.scala:237)\n\tat org.apache.spark.ml.feature.StringIndexer.fit(StringIndexer.scala:145)\n\tat java.base/jdk.internal.reflect.NativeMethodAccessorImpl.invoke0(Native Method)\n\tat java.base/jdk.internal.reflect.NativeMethodAccessorImpl.invoke(NativeMethodAccessorImpl.java:62)\n\tat java.base/jdk.internal.reflect.DelegatingMethodAccessorImpl.invoke(DelegatingMethodAccessorImpl.java:43)\n\tat java.base/java.lang.reflect.Method.invoke(Method.java:566)\n\tat py4j.reflection.MethodInvoker.invoke(MethodInvoker.java:244)\n\tat py4j.reflection.ReflectionEngine.invoke(ReflectionEngine.java:357)\n\tat py4j.Gateway.invoke(Gateway.java:282)\n\tat py4j.commands.AbstractCommand.invokeMethod(AbstractCommand.java:132)\n\tat py4j.commands.CallCommand.execute(CallCommand.java:79)\n\tat py4j.ClientServerConnection.waitForCommands(ClientServerConnection.java:182)\n\tat py4j.ClientServerConnection.run(ClientServerConnection.java:106)\n\tat java.base/java.lang.Thread.run(Thread.java:829)\n"
     ]
    }
   ],
   "source": [
    "from pyspark.ml.feature import StringIndexer\n",
    "job_indexer = StringIndexer(inputCol=\"JobTitle\", outputCol=\"JobIndex\")\n",
    "edu_indexer = StringIndexer(inputCol=\"Education\", outputCol=\"EducationIndex\")\n",
    "dept_indexer = StringIndexer(inputCol=\"Dept\", outputCol=\"DeptIndex\")\n",
    "#below_indexer = StringIndexer(inputCol=\"BelowAvg\", outputCol=\"BelowIndex\")\n",
    "df = job_indexer.fit(df).transform(df)\n",
    "df = edu_indexer.fit(df).transform(df)\n",
    "df = dept_indexer.fit(df).transform(df)\n",
    "#df = below_indexer.fit(df).transform(df)\n",
    "\n",
    "from pyspark.ml.feature import OneHotEncoder\n",
    "ohe = OneHotEncoder(inputCols=[\"JobIndex\", \"EducationIndex\", \"DeptIndex\"], \n",
    "                    outputCols=[\"JobEncoded\", \"EducationEncoded\", \"DeptEncoded\"])\n",
    "df = ohe.fit(df).transform(df)\n",
    "\n",
    "df = df.drop(\"Gender\", \"Education\", \"Dept\", \"BasePay\", \"Bonus\", \"CompanyID\", \"TotalSalary\", \"JobTitle\", \"AvgSalary\", \"EducationIndex\", \"JobIndex\", \"DeptIndex\")\n",
    "df = df.withColumn(\"BelowAvg\",df.BelowAvg.cast('int'))\n",
    "df.show()"
   ]
  },
  {
   "cell_type": "code",
   "execution_count": 13,
   "id": "1b9702e9",
   "metadata": {},
   "outputs": [
    {
     "name": "stdout",
     "output_type": "stream",
     "text": [
      "+--------------------+--------+\n",
      "|            features|BelowAvg|\n",
      "+--------------------+--------+\n",
      "|(19,[0,1,2,11,17]...|       0|\n",
      "|(19,[0,1,2,11,16]...|       0|\n",
      "|(19,[0,1,2,8,13,1...|       0|\n",
      "|(19,[0,1,2,11,12,...|       0|\n",
      "|(19,[0,1,2,11,17]...|       0|\n",
      "|(19,[0,1,2,4,14,1...|       0|\n",
      "|(19,[0,1,2,4,12,1...|       0|\n",
      "|(19,[0,1,2,11,14,...|       0|\n",
      "|(19,[0,1,2,11,14]...|       0|\n",
      "|(19,[0,1,2,4,16],...|       0|\n",
      "|(19,[0,1,2,11,18]...|       0|\n",
      "|(19,[0,1,2,4,13,1...|       0|\n",
      "|(19,[0,1,2,11,13,...|       0|\n",
      "|(19,[0,1,2,4,13,1...|       0|\n",
      "|(19,[0,1,2,11,13,...|       0|\n",
      "|(19,[0,1,2,4,13,1...|       0|\n",
      "|(19,[0,1,2,11,14,...|       0|\n",
      "|(19,[0,1,2,11,17]...|       0|\n",
      "|(19,[0,1,2,11],[5...|       0|\n",
      "|(19,[0,1,2,11,15]...|       0|\n",
      "+--------------------+--------+\n",
      "only showing top 20 rows\n",
      "\n"
     ]
    }
   ],
   "source": [
    "from pyspark.ml.linalg import Vectors \n",
    "from pyspark.ml.feature import VectorAssembler\n",
    "\n",
    "\n",
    "assembler = VectorAssembler(inputCols=['Age','PerfEval','Seniority','JobEncoded','EducationEncoded','DeptEncoded'], outputCol='features')\n",
    "output = assembler.transform(df)\n",
    "final_data = output.select('features','BelowAvg')\n",
    "final_data.show()"
   ]
  },
  {
   "cell_type": "code",
   "execution_count": 14,
   "id": "dff7b1e1",
   "metadata": {},
   "outputs": [
    {
     "data": {
      "text/plain": [
       "SparseVector(19, {0: 0.4742, 1: 0.0155, 2: 0.3773, 3: 0.0144, 4: 0.001, 5: 0.0108, 6: 0.0038, 7: 0.008, 8: 0.0081, 9: 0.0027, 10: 0.0047, 11: 0.0057, 12: 0.0253, 13: 0.0098, 14: 0.0041, 15: 0.0036, 16: 0.0093, 17: 0.0096, 18: 0.0124})"
      ]
     },
     "execution_count": 14,
     "metadata": {},
     "output_type": "execute_result"
    }
   ],
   "source": [
    "from pyspark.ml.classification import RandomForestClassifier \n",
    "rf = RandomForestClassifier(labelCol='BelowAvg', featuresCol='features')\n",
    "model = rf.fit(final_data)\n",
    "model.featureImportances"
   ]
  },
  {
   "cell_type": "code",
   "execution_count": 15,
   "id": "6c64538f",
   "metadata": {},
   "outputs": [
    {
     "name": "stdout",
     "output_type": "stream",
     "text": [
      "+--------------------+--------+--------------------+\n",
      "|            features|BelowAvg|      ScaledFeatures|\n",
      "+--------------------+--------+--------------------+\n",
      "|(19,[0,1,2,11,17]...|       0|(19,[0,2,11,17],[...|\n",
      "|(19,[0,1,2,11,16]...|       0|(19,[0,1,2,11,16]...|\n",
      "|(19,[0,1,2,8,13,1...|       0|(19,[0,1,2,8,13,1...|\n",
      "|(19,[0,1,2,11,12,...|       0|(19,[0,2,11,12,17...|\n",
      "|(19,[0,1,2,11,17]...|       0|(19,[0,1,2,11,17]...|\n",
      "|(19,[0,1,2,4,14,1...|       0|(19,[0,2,4,14,16]...|\n",
      "|(19,[0,1,2,4,12,1...|       0|(19,[0,1,2,4,12,1...|\n",
      "|(19,[0,1,2,11,14,...|       0|(19,[0,1,2,11,14,...|\n",
      "|(19,[0,1,2,11,14]...|       0|(19,[0,1,2,11,14]...|\n",
      "|(19,[0,1,2,4,16],...|       0|(19,[0,1,2,4,16],...|\n",
      "|(19,[0,1,2,11,18]...|       0|(19,[0,1,2,11,18]...|\n",
      "|(19,[0,1,2,4,13,1...|       0|(19,[0,1,2,4,13,1...|\n",
      "|(19,[0,1,2,11,13,...|       0|(19,[0,2,11,13,18...|\n",
      "|(19,[0,1,2,4,13,1...|       0|(19,[0,1,2,4,13,1...|\n",
      "|(19,[0,1,2,11,13,...|       0|(19,[0,1,2,11,13,...|\n",
      "|(19,[0,1,2,4,13,1...|       0|(19,[0,1,2,4,13,1...|\n",
      "|(19,[0,1,2,11,14,...|       0|(19,[0,1,2,11,14,...|\n",
      "|(19,[0,1,2,11,17]...|       0|(19,[0,2,11,17],[...|\n",
      "|(19,[0,1,2,11],[5...|       0|(19,[0,1,2,11],[0...|\n",
      "|(19,[0,1,2,11,15]...|       0|(19,[0,1,2,11,15]...|\n",
      "+--------------------+--------+--------------------+\n",
      "only showing top 20 rows\n",
      "\n"
     ]
    }
   ],
   "source": [
    "from pyspark.ml.feature import MinMaxScaler\n",
    "scaler = MinMaxScaler(inputCol=\"features\", outputCol='ScaledFeatures')\n",
    "scaled_final_data = scaler.fit(final_data).transform(final_data)\n",
    "scaled_final_data.show()"
   ]
  },
  {
   "cell_type": "code",
   "execution_count": 23,
   "id": "c9736279",
   "metadata": {},
   "outputs": [
    {
     "name": "stdout",
     "output_type": "stream",
     "text": [
      "DecisionTreeClassificationModel: uid=DecisionTreeClassifier_5dbd2d9d9c6f, depth=4, numNodes=27, numClasses=2, numFeatures=19\n",
      "  If (feature 0 <= 38.5)\n",
      "   If (feature 2 <= 4.5)\n",
      "    If (feature 2 <= 3.5)\n",
      "     Predict: 1.0\n",
      "    Else (feature 2 > 3.5)\n",
      "     If (feature 0 <= 33.5)\n",
      "      Predict: 1.0\n",
      "     Else (feature 0 > 33.5)\n",
      "      Predict: 0.0\n",
      "   Else (feature 2 > 4.5)\n",
      "    If (feature 0 <= 24.5)\n",
      "     If (feature 0 <= 18.5)\n",
      "      Predict: 1.0\n",
      "     Else (feature 0 > 18.5)\n",
      "      Predict: 0.0\n",
      "    Else (feature 0 > 24.5)\n",
      "     If (feature 3 in {1.0})\n",
      "      Predict: 1.0\n",
      "     Else (feature 3 not in {1.0})\n",
      "      Predict: 0.0\n",
      "  Else (feature 0 > 38.5)\n",
      "   If (feature 2 <= 2.5)\n",
      "    If (feature 0 <= 57.5)\n",
      "     If (feature 5 in {1.0})\n",
      "      Predict: 0.0\n",
      "     Else (feature 5 not in {1.0})\n",
      "      Predict: 1.0\n",
      "    Else (feature 0 > 57.5)\n",
      "     If (feature 3 in {1.0})\n",
      "      Predict: 1.0\n",
      "     Else (feature 3 not in {1.0})\n",
      "      Predict: 0.0\n",
      "   Else (feature 2 > 2.5)\n",
      "    If (feature 2 <= 3.5)\n",
      "     If (feature 0 <= 49.5)\n",
      "      Predict: 1.0\n",
      "     Else (feature 0 > 49.5)\n",
      "      Predict: 0.0\n",
      "    Else (feature 2 > 3.5)\n",
      "     Predict: 0.0\n",
      "\n"
     ]
    }
   ],
   "source": [
    "from pyspark.ml.classification import DecisionTreeClassifier \n",
    "dt = DecisionTreeClassifier(labelCol='BelowAvg', featuresCol='features', maxDepth=4)\n",
    "model = dt.fit(final_data)\n",
    "print(model.toDebugString)"
   ]
  },
  {
   "cell_type": "code",
   "execution_count": 30,
   "id": "3d8feb90",
   "metadata": {},
   "outputs": [
    {
     "name": "stdout",
     "output_type": "stream",
     "text": [
      "Accuracy = 0.8543983822042467\n"
     ]
    }
   ],
   "source": [
    "from pyspark.ml.evaluation import MulticlassClassificationEvaluator\n",
    "pred = model.transform(final_data)\n",
    "evaluator = MulticlassClassificationEvaluator(labelCol=\"BelowAvg\", predictionCol=\"prediction\", metricName=\"accuracy\")\n",
    "accuracy = evaluator.evaluate(pred)\n",
    "print(\"Accuracy =\", accuracy)\n",
    "\n"
   ]
  },
  {
   "cell_type": "code",
   "execution_count": 21,
   "id": "c546b9ca",
   "metadata": {},
   "outputs": [
    {
     "data": {
      "text/plain": [
       "DenseVector([-0.1696, -0.2355, -1.7528, 1.5016, 0.2503, -0.4482, 0.0423, 0.0861, -0.2131, 0.51, 0.4281, 1.3552, 1.1892, -0.307, 0.7566, 0.0761, -1.1407, -0.2897, -0.8304])"
      ]
     },
     "execution_count": 21,
     "metadata": {},
     "output_type": "execute_result"
    }
   ],
   "source": [
    "from pyspark.ml.classification import LogisticRegression\n",
    "lr = LogisticRegression(labelCol=\"BelowAvg\",featuresCol='features')\n",
    "model = lr.fit(final_data)\n",
    "model.coefficients\n",
    "\n"
   ]
  },
  {
   "cell_type": "code",
   "execution_count": null,
   "id": "e605fe8a",
   "metadata": {},
   "outputs": [],
   "source": []
  }
 ],
 "metadata": {
  "kernelspec": {
   "display_name": "Python 3 (ipykernel)",
   "language": "python",
   "name": "python3"
  },
  "language_info": {
   "codemirror_mode": {
    "name": "ipython",
    "version": 3
   },
   "file_extension": ".py",
   "mimetype": "text/x-python",
   "name": "python",
   "nbconvert_exporter": "python",
   "pygments_lexer": "ipython3",
   "version": "3.10.4"
  }
 },
 "nbformat": 4,
 "nbformat_minor": 5
}
